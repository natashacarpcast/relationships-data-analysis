{
 "cells": [
  {
   "cell_type": "markdown",
   "metadata": {},
   "source": [
    "This notebook reads the processed csv file and converts it into parquet files to optimize storage and speedup next analysis"
   ]
  },
  {
   "cell_type": "code",
   "execution_count": 1,
   "metadata": {},
   "outputs": [
    {
     "name": "stdout",
     "output_type": "stream",
     "text": [
      "Starting Spark application\n"
     ]
    },
    {
     "data": {
      "text/html": [
       "<table>\n",
       "<tr><th>ID</th><th>YARN Application ID</th><th>Kind</th><th>State</th><th>Spark UI</th><th>Driver log</th><th>Current session?</th></tr><tr><td>0</td><td>application_1715895756248_0002</td><td>pyspark</td><td>idle</td><td><a target=\"_blank\" href=\"http://ip-172-31-16-179.ec2.internal:20888/proxy/application_1715895756248_0002/\">Link</a></td><td><a target=\"_blank\" href=\"http://ip-172-31-18-173.ec2.internal:8042/node/containerlogs/container_1715895756248_0002_01_000001/livy\">Link</a></td><td>✔</td></tr></table>"
      ],
      "text/plain": [
       "<IPython.core.display.HTML object>"
      ]
     },
     "metadata": {},
     "output_type": "display_data"
    },
    {
     "data": {
      "application/vnd.jupyter.widget-view+json": {
       "model_id": "",
       "version_major": 2,
       "version_minor": 0
      },
      "text/plain": [
       "FloatProgress(value=0.0, bar_style='info', description='Progress:', layout=Layout(height='25px', width='50%'),…"
      ]
     },
     "metadata": {},
     "output_type": "display_data"
    },
    {
     "name": "stdout",
     "output_type": "stream",
     "text": [
      "SparkSession available as 'spark'.\n"
     ]
    },
    {
     "data": {
      "application/vnd.jupyter.widget-view+json": {
       "model_id": "",
       "version_major": 2,
       "version_minor": 0
      },
      "text/plain": [
       "FloatProgress(value=0.0, bar_style='info', description='Progress:', layout=Layout(height='25px', width='50%'),…"
      ]
     },
     "metadata": {},
     "output_type": "display_data"
    },
    {
     "name": "stderr",
     "output_type": "stream",
     "text": [
      "An error was encountered:\n",
      "unknown magic command '%configure'\n",
      "UnknownMagic: unknown magic command '%configure'\n",
      "\n"
     ]
    }
   ],
   "source": [
    "#Set up environment\n",
    "\n",
    "%%configure -f\n",
    "{\n",
    "    \"conf\": {\n",
    "        \"spark.pyspark.python\": \"python3\",\n",
    "        \"spark.pyspark.virtualenv.enabled\": \"true\",\n",
    "        \"spark.pyspark.virtualenv.type\":\"native\",\n",
    "        \"spark.pyspark.virtualenv.bin.path\":\"/usr/bin/virtualenv\"\n",
    "    }\n",
    "}"
   ]
  },
  {
   "cell_type": "code",
   "execution_count": 4,
   "metadata": {},
   "outputs": [
    {
     "data": {
      "application/vnd.jupyter.widget-view+json": {
       "model_id": "",
       "version_major": 2,
       "version_minor": 0
      },
      "text/plain": [
       "FloatProgress(value=0.0, bar_style='info', description='Progress:', layout=Layout(height='25px', width='50%'),…"
      ]
     },
     "metadata": {},
     "output_type": "display_data"
    }
   ],
   "source": [
    "#Read CSV file from S3 bucket\n",
    "data_csv = spark.read.csv(\"s3://finalproject-nat-s3/processed_submissions.csv\", header=True)"
   ]
  },
  {
   "cell_type": "code",
   "execution_count": 5,
   "metadata": {},
   "outputs": [
    {
     "data": {
      "application/vnd.jupyter.widget-view+json": {
       "model_id": "",
       "version_major": 2,
       "version_minor": 0
      },
      "text/plain": [
       "FloatProgress(value=0.0, bar_style='info', description='Progress:', layout=Layout(height='25px', width='50%'),…"
      ]
     },
     "metadata": {},
     "output_type": "display_data"
    },
    {
     "name": "stdout",
     "output_type": "stream",
     "text": [
      "Total Columns: 7\n",
      "Total Rows: 4357389\n",
      "root\n",
      " |-- id: string (nullable = true)\n",
      " |-- created: string (nullable = true)\n",
      " |-- author: string (nullable = true)\n",
      " |-- score: string (nullable = true)\n",
      " |-- title: string (nullable = true)\n",
      " |-- selftext: string (nullable = true)\n",
      " |-- num_comments: string (nullable = true)"
     ]
    }
   ],
   "source": [
    "#See structure of the dataframe \n",
    "print('Total Columns: %d' % len(data_csv.dtypes))\n",
    "print('Total Rows: %d' % data_csv.count())\n",
    "data_csv.printSchema()"
   ]
  },
  {
   "cell_type": "code",
   "execution_count": 7,
   "metadata": {},
   "outputs": [
    {
     "data": {
      "application/vnd.jupyter.widget-view+json": {
       "model_id": "",
       "version_major": 2,
       "version_minor": 0
      },
      "text/plain": [
       "FloatProgress(value=0.0, bar_style='info', description='Progress:', layout=Layout(height='25px', width='50%'),…"
      ]
     },
     "metadata": {},
     "output_type": "display_data"
    },
    {
     "name": "stdout",
     "output_type": "stream",
     "text": [
      "+-----+----------------+--------------------+-----+--------------------+--------------------+------------+\n",
      "|   id|         created|              author|score|               title|            selftext|num_comments|\n",
      "+-----+----------------+--------------------+-----+--------------------+--------------------+------------+\n",
      "|8shht|2009-06-14 18:22|         u/[deleted]|    9|Introducing the R...|             deleted|           1|\n",
      "|8si6m|2009-06-14 20:42|         u/[deleted]|   18|Potential Reddit ...|             deleted|          18|\n",
      "|8sur3|2009-06-16 00:19|         u/[deleted]|    7|How do I get over...|             deleted|           8|\n",
      "|8sw2f|2009-06-16 03:30|       u/notmyrealsn|    3|Long distance rel...|                null|           9|\n",
      "|8swor|2009-06-16 05:01|               u/cr3|   10|Name your favouri...|                null|          20|\n",
      "|8sx2g|2009-06-16 05:58|         u/[deleted]|    2|Dear Reddit need ...|             deleted|           7|\n",
      "|8t0lu|2009-06-16 12:13|       u/rogerssucks|    1|How many of you a...|                null|           3|\n",
      "|8t1b6|2009-06-16 13:22|         u/[deleted]|    5|I kept up contact...|             deleted|           5|\n",
      "|8t1rm|2009-06-16 14:10|         u/switching|    4|Switching  How do...|                null|           7|\n",
      "|8t4w3|2009-06-16 21:03|         u/[deleted]|    2|This girl things ...|             deleted|           9|\n",
      "|8t4xw|2009-06-16 21:09|         u/[deleted]|    8|Motion to change ...|                null|          13|\n",
      "|8to95|2009-06-18 13:43|        u/anonymous8|    4|How do you ask a ...|                null|          17|\n",
      "|8tw9m|2009-06-19 08:33|         u/[deleted]|    7|How do you move p...|I am currently go...|          19|\n",
      "|8u1vm|2009-06-19 20:34|         u/[deleted]|    4|About to start a ...|My girlfriend and...|          16|\n",
      "|8uaxz|2009-06-21 04:05|         u/jokerbook|    0|Stop Dreaming Sta...|                null|           0|\n",
      "|8ugsg|2009-06-21 23:31|         u/[deleted]|    2|Relationship sort...|             deleted|           8|\n",
      "|8uop0|2009-06-22 15:21|         u/[deleted]|    1|Relationship sort...|             deleted|           0|\n",
      "|8utuw|2009-06-23 03:22|         u/[deleted]|    0|Im in love What next|             deleted|           0|\n",
      "|8uyea|2009-06-23 11:59|              u/jsla|    0|relationship advi...|                null|           0|\n",
      "|8v35q|2009-06-23 21:55|         u/[deleted]|    4|The continuing dr...|             deleted|          15|\n",
      "|8v4ez|2009-06-24 01:00|         u/[deleted]|    0|Get Your Ex Back ...|             deleted|           0|\n",
      "|8vmin|2009-06-25 12:05|        u/quitstalin|    2|I am in a long te...|I am 19 and atten...|           6|\n",
      "|8vw1y|2009-06-26 07:31|        u/anoopmajha|    0|Relationship Advi...|                null|           0|\n",
      "|8w6sj|2009-06-27 09:04|              u/jsla|    0|Get Ex Back by re...|                null|           0|\n",
      "|8wb2v|2009-06-27 22:06|         u/[deleted]|    4|How have you deal...|             deleted|           5|\n",
      "|8wbhc|2009-06-27 23:29|        u/chris99460|    0| My Wife was a Fraud|                null|           2|\n",
      "|8wknl|2009-06-29 03:23|        u/anoopmajha|    0|Is Snoring Hurtin...|                null|           0|\n",
      "|8wo89|2009-06-29 10:30|      u/sheplonsdale|    1|OpEd Columnist  T...|                null|           0|\n",
      "|8wr9i|2009-06-29 15:17|             u/swf42|    0|Single White Fema...|                null|           1|\n",
      "|8wt5i|2009-06-29 19:35|              u/jsla|    0|Dealing with an a...|                null|           0|\n",
      "|8wvr7|2009-06-30 01:59|       u/anonomouse2|    6|Falling for a friend|Hey there Reddit ...|          19|\n",
      "|8x2tx|2009-06-30 14:47|         u/[deleted]|    1|Issues with my si...|             deleted|          11|\n",
      "|8x3tf|2009-06-30 16:43|         u/[deleted]|    1|Aaaaaaaaaarghohmy...|             deleted|          19|\n",
      "|8x4zi|2009-06-30 19:30|        u/chris99460|    0|   Hot Dating Advice|                null|           0|\n",
      "|8x78h|2009-07-01 01:12|        u/thegirl101|   13|Questionsthoughts...|Warning teenage t...|          21|\n",
      "|8x854|2009-07-01 03:21|         u/hello2345|    7|Trying to figure ...|Ok Ill try to mak...|           8|\n",
      "|8xf0j|2009-07-01 16:05|u/throwawayusernamer|    5|Is it okay to do ...|Ive been seeing s...|          11|\n",
      "|8xff7|2009-07-01 16:57|       u/anonomouse2|    5|What to do when a...|cant stand it  im...|          22|\n",
      "|8xito|2009-07-02 01:13|      u/hithereitsme|    0|Quick help needed...|Yeah its another ...|           4|\n",
      "|8xkxb|2009-07-02 05:48|              u/jsla|    0|  Get Ex Back Faster|                null|           0|\n",
      "|8xsma|2009-07-02 20:39|          u/factoidz|    0|Relationships Is ...|                null|           3|\n",
      "|8xvdv|2009-07-03 03:26|         u/[deleted]|   12|How do I stop bei...|             deleted|          50|\n",
      "|8y1xy|2009-07-03 18:06|        u/chris99460|    0|Healing A Broken ...|                null|           1|\n",
      "|8y26v|2009-07-03 18:54|         u/[deleted]|    2|Im confused I fee...|             deleted|          12|\n",
      "|8y3zz|2009-07-04 00:51|         u/[deleted]|    1|Relationship Redd...|             deleted|           5|\n",
      "|8y4tw|2009-07-04 03:26|         u/[deleted]|   11|Gah I was just on...|             deleted|           6|\n",
      "|8y5b7|2009-07-04 05:00|      u/precious1384|    0|    Get Your Ex Back|                null|           0|\n",
      "|8y7dt|2009-07-04 11:25|         u/[deleted]|    6|Spinoff from the ...|             deleted|          15|\n",
      "|8yaau|2009-07-04 21:41|            u/AZJZPZ|    2|            Trusting|I used to and unf...|           7|\n",
      "|8yaye|2009-07-05 00:12|         u/[deleted]|    0|Taking a girl out...|A friend of mine ...|           9|\n",
      "|8ybrq|2009-07-05 03:13|         u/[deleted]|    0|How can I reel hi...|             deleted|           0|\n",
      "|8ybsn|2009-07-05 03:19|         u/giftarist|    0|What Makes a Fulf...|                null|           1|\n",
      "|8yf2o|2009-07-05 14:38|        u/chris99460|    0|Discover How You ...|                null|           1|\n",
      "|8ygbe|2009-07-05 18:47|         u/pauleric5|    0|100 FREE  Get Bac...|                null|           1|\n",
      "|8yhk4|2009-07-05 22:28|      u/sea_anonymus|    8|Im heavily regret...|She reads Reddit ...|          18|\n",
      "|8yhks|2009-07-05 22:30|      u/KittyMonster|    6|Help  The Guy Im ...|I started dating ...|          10|\n",
      "|8yhp2|2009-07-05 22:52|         u/[deleted]|    0|     Break up advice|             deleted|           6|\n",
      "|8yl2m|2009-07-06 06:40|    u/martha_jackson|    0|What Makes Men Happy|                null|           2|\n",
      "|8ylm4|2009-07-06 07:48|  u/throwthisaccaway|    1|My girlfriend and...|                null|           6|\n",
      "|8ym24|2009-07-06 08:33|        u/anoopmajha|    0|Energize Your Rel...|                null|           0|\n",
      "|8ymi4|2009-07-06 09:18|         u/[deleted]|    5|I think hes the o...|             deleted|          31|\n",
      "|8z5rq|2009-07-07 22:37|         u/[deleted]|    0|Im in love with a...|             deleted|           2|\n",
      "|8z65k|2009-07-07 23:29|         u/[deleted]|   26|Ever had limerenc...|                null|          37|\n",
      "|8z6jg|2009-07-08 00:15|         u/[deleted]|    0|I know this girl ...|             deleted|          10|\n",
      "|8z6qx|2009-07-08 00:43|          u/Imamoron|    0|Dream Disaster or...|Im 19 years old a...|           7|\n",
      "|8z6rk|2009-07-08 00:46|         u/[deleted]|    2|Not sure where to...|             deleted|           6|\n",
      "|8z6sx|2009-07-08 00:50|            u/suzier|    3|My boyfriend does...|Ive dated and see...|          70|\n",
      "|8z6vc|2009-07-08 00:58|         u/[deleted]|    0|I am looking for ...|             deleted|           4|\n",
      "|8z6zv|2009-07-08 01:13|         u/scranklin|    0|So Im crazy about...|Hi Reddit  I cant...|          10|\n",
      "|8z78d|2009-07-08 01:39|           u/nicodol|    2|I cant let go of ...|                null|          10|\n",
      "|8z7sn|2009-07-08 02:50|         u/[deleted]|    0|           Thank you|             deleted|           0|\n",
      "|8z8kp|2009-07-08 05:08|         u/[deleted]|    1|I failed a course...|             deleted|           2|\n",
      "|8z8le|2009-07-08 05:10|          u/pkvsilix|    2|     Do I let her go|I am an Indian gu...|          12|\n",
      "|8z8lj|2009-07-08 05:11|         u/[deleted]|    6|I want to so some...|             deleted|           9|\n",
      "|8z9xi|2009-07-08 07:58|        u/leo_athene|    3|Best friend frien...|My friend is frie...|           5|\n",
      "|8zdwa|2009-07-08 13:33|       u/TheSquirrel|    4|When is it time t...|Ive been in three...|           6|\n",
      "|8zg71|2009-07-08 17:23|           u/mrggfep|    0|Its only a relati...|                null|           0|\n",
      "|8zhho|2009-07-08 20:22|         u/bookerbee|    1|Marriage Help  Wh...|                null|           2|\n",
      "|8zjb1|2009-07-09 00:20|            u/eriban|    7|How do I gather u...|Things have taken...|          14|\n",
      "|8zjn6|2009-07-09 01:04|         u/[deleted]|    0|Is there anything...|             deleted|           2|\n",
      "|8zkb0|2009-07-09 02:19|        u/suzanek929|    8|Couples study deb...|                null|           1|\n",
      "|8zpnc|2009-07-09 11:46|         u/[deleted]|    2|Any tips for lear...|I came from a rou...|           5|\n",
      "|8zpwt|2009-07-09 12:09|         u/oriontank|    5|    Date suggestions|Going on a date t...|          11|\n",
      "|8zq92|2009-07-09 12:37|       u/jfpbookworm|  117|Unsolicited relat...|and that I wish i...|          29|\n",
      "|8zsfg|2009-07-09 16:04|         u/beautlife|    1|Top 5 Communicati...|                null|           3|\n",
      "|9003z|2009-07-10 09:09|         u/[deleted]|    3|Is it possible to...|I have been toget...|          15|\n",
      "|904hf|2009-07-10 16:18|         u/[deleted]|    5|What compels a ma...|                null|           3|\n",
      "|906nv|2009-07-10 22:43|             u/soyko|    7|Should I bother s...|My ex texted me a...|          21|\n",
      "|907u0|2009-07-11 01:54|         u/[deleted]|    4|I HAVE to get ove...|             deleted|          18|\n",
      "|90940|2009-07-11 05:56|    u/sawantakhilesh|    1|      yadameRUsingle|             removed|           0|\n",
      "|90a4n|2009-07-11 09:08|    u/sawantakhilesh|    1|new site for chating|                null|           0|\n",
      "|90afl|2009-07-11 09:54|         u/[deleted]|    3|Mate Hunting Nerd...|             deleted|           9|\n",
      "|90c2m|2009-07-11 13:38|         u/[deleted]|    4|About loneliness ...|             deleted|           5|\n",
      "|90cuf|2009-07-11 15:53|         u/[deleted]|   21|Women whats one t...|             deleted|          38|\n",
      "|90eto|2009-07-11 22:54|         u/[deleted]|   11|Need insight into...|             deleted|          20|\n",
      "|90jqr|2009-07-12 16:03|              u/jsla|    1|Relationship Advi...|                null|           0|\n",
      "|90jtl|2009-07-12 16:19|              u/jsla|    1|Marriage Advice t...|                null|           0|\n",
      "|90lfi|2009-07-12 21:28|         u/[deleted]|    3|Ok I know relatio...|             deleted|          13|\n",
      "|90lq6|2009-07-12 22:17|         u/worried99|   10|I need advice and...|Well about least ...|          11|\n",
      "|90mza|2009-07-13 01:20|            u/spudtc|    1|Do You Keep Think...|                null|           1|\n",
      "+-----+----------------+--------------------+-----+--------------------+--------------------+------------+\n",
      "only showing top 100 rows"
     ]
    }
   ],
   "source": [
    "#See if data was parsed correctly\n",
    "data_csv.show(100)"
   ]
  },
  {
   "cell_type": "code",
   "execution_count": 8,
   "metadata": {},
   "outputs": [
    {
     "data": {
      "application/vnd.jupyter.widget-view+json": {
       "model_id": "",
       "version_major": 2,
       "version_minor": 0
      },
      "text/plain": [
       "FloatProgress(value=0.0, bar_style='info', description='Progress:', layout=Layout(height='25px', width='50%'),…"
      ]
     },
     "metadata": {},
     "output_type": "display_data"
    }
   ],
   "source": [
    "#Seems OK. Now, I can convert to parquet \n",
    "\n",
    "df_repartitioned = data_csv.repartition(2)\n",
    "df_repartitioned.write.parquet(\"s3://finalproject-nat-s3/submissions_parquet\", mode = 'overwrite')"
   ]
  },
  {
   "cell_type": "code",
   "execution_count": 10,
   "metadata": {},
   "outputs": [
    {
     "data": {
      "application/vnd.jupyter.widget-view+json": {
       "model_id": "",
       "version_major": 2,
       "version_minor": 0
      },
      "text/plain": [
       "FloatProgress(value=0.0, bar_style='info', description='Progress:', layout=Layout(height='25px', width='50%'),…"
      ]
     },
     "metadata": {},
     "output_type": "display_data"
    }
   ],
   "source": [
    "#Open parquet files\n",
    "data_parquet = spark.read.parquet('s3://finalproject-nat-s3/submissions_parquet/*.parquet')"
   ]
  },
  {
   "cell_type": "code",
   "execution_count": 11,
   "metadata": {},
   "outputs": [
    {
     "data": {
      "application/vnd.jupyter.widget-view+json": {
       "model_id": "",
       "version_major": 2,
       "version_minor": 0
      },
      "text/plain": [
       "FloatProgress(value=0.0, bar_style='info', description='Progress:', layout=Layout(height='25px', width='50%'),…"
      ]
     },
     "metadata": {},
     "output_type": "display_data"
    },
    {
     "name": "stdout",
     "output_type": "stream",
     "text": [
      "Total Columns: 7\n",
      "Total Rows: 4357389\n",
      "root\n",
      " |-- id: string (nullable = true)\n",
      " |-- created: string (nullable = true)\n",
      " |-- author: string (nullable = true)\n",
      " |-- score: string (nullable = true)\n",
      " |-- title: string (nullable = true)\n",
      " |-- selftext: string (nullable = true)\n",
      " |-- num_comments: string (nullable = true)"
     ]
    }
   ],
   "source": [
    "#See structure of the dataframe \n",
    "print('Total Columns: %d' % len(data_parquet.dtypes))\n",
    "print('Total Rows: %d' % data_parquet.count())\n",
    "data_parquet.printSchema()"
   ]
  },
  {
   "cell_type": "code",
   "execution_count": 12,
   "metadata": {},
   "outputs": [
    {
     "data": {
      "application/vnd.jupyter.widget-view+json": {
       "model_id": "",
       "version_major": 2,
       "version_minor": 0
      },
      "text/plain": [
       "FloatProgress(value=0.0, bar_style='info', description='Progress:', layout=Layout(height='25px', width='50%'),…"
      ]
     },
     "metadata": {},
     "output_type": "display_data"
    },
    {
     "name": "stdout",
     "output_type": "stream",
     "text": [
      "+------+----------------+--------------------+-----+--------------------+--------------------+------------+\n",
      "|    id|         created|              author|score|               title|            selftext|num_comments|\n",
      "+------+----------------+--------------------+-----+--------------------+--------------------+------------+\n",
      "|1fceq2|2013-05-30 11:28|           u/rlh1271|   59|24m My girlfriend...|Weve been dating ...|         124|\n",
      "| cw6d6|2010-08-01 16:23|u/longdistance_throw|    4|What are some goo...|Hi friends youve ...|          12|\n",
      "|1j2am7|2013-07-25 18:54|         u/[deleted]|    2|24m My wife 23f C...|Hi Reddit Been co...|           7|\n",
      "|16k90k|2013-01-14 12:04|        u/RoboDinner|    1|Need gift advice ...|Ive been seeing a...|          13|\n",
      "| yvqn2|2012-08-26 20:45|   u/MaddenInGeneral|    1|21m Help dealing ...|I need some help ...|           6|\n",
      "| bn3ib|2010-04-06 07:21|         u/[deleted]|    2|Unhealthy relatio...|Note sorry but to...|          15|\n",
      "|14a0go|2012-12-04 14:00|         u/[deleted]|    1|28M Feel like thi...|Frist some backgr...|           6|\n",
      "| g2dzv|2011-03-11 21:36|        u/Freshman69|    9|I need relationsh...|Figured this woul...|          18|\n",
      "| f0gz5|2011-01-11 15:40|         u/[deleted]|    2| Am I being an idiot|15 year relations...|           9|\n",
      "|1eeykc|2013-05-15 18:10|        u/WolfChrist|    1|M20 confused abou...|So I met this rea...|           6|\n",
      "| tqkcx|2012-05-16 16:16|     u/Threw-1t-Away|    1|Did I fuck it up ...|Ill try to keep t...|           1|\n",
      "|1givwt|2013-06-17 11:45| u/strawberryfields7|    0|Bf m24 dumps me o...|we were going out...|           9|\n",
      "|14ppyv|2012-12-12 00:43|         u/[deleted]|    0|Welp Now Im 22m s...|I dont think I ha...|           4|\n",
      "|16msny|2013-01-15 13:05|        u/ColdSilver|    1|23F Confused abou...|Ok so lets start ...|           9|\n",
      "| ggow7|2011-04-01 16:02|u/PresidentTylerD...|    1|   What do I do next|Well I met this g...|           5|\n",
      "| lkt68|2011-10-22 01:29|         u/[deleted]|    3|Trying to initiat...|Hey rrelationship...|           5|\n",
      "|142ihr|2012-11-30 14:46|      u/TooTallJones|    3|Girl 19F admits a...|Hello my fellow r...|           2|\n",
      "| hdhq9|2011-05-17 12:03|            u/impror|    3|  Nothing but stress|Hello Reddit   Mi...|          15|\n",
      "|1a4w2e|2013-03-12 01:45|     u/throwaway6478|    0|How did you know ...|I dont have the e...|           4|\n",
      "| pex58|2012-02-07 11:54|            u/LTCRDJ|    5|   Need advice badly|So I am 28m and I...|           5|\n",
      "| bgb3u|2010-03-21 16:42|         u/[deleted]|    1|How would you def...|             removed|           0|\n",
      "| nuirf|2011-12-28 22:29|       u/alexandriac|    6|Should I ask my b...|My boyfriend 22 a...|          12|\n",
      "| cjpfj|2010-06-27 22:49|          u/moreaman|    8|Inferiority compl...|Sorry its so long...|          20|\n",
      "|112440|2012-10-06 16:17|        u/Innedainfo|    1|Need help with ex...|My gf and I separ...|           3|\n",
      "| b8ifd|2010-03-02 20:58|          u/Chandlin|   94|Married but still...|I am a 23 year ol...|         280|\n",
      "| veyqp|2012-06-21 21:23|         u/[deleted]|    8|Boyfriends parent...|My boyfriend and ...|           6|\n",
      "| pl5fc|2012-02-11 14:49|          u/MinxMojo|   11|Has my husband ce...|I am a mother of ...|          22|\n",
      "| nl5v8|2011-12-21 05:44|         u/[deleted]|    0|Girlfriend seems ...|Im just kind of a...|           4|\n",
      "| pi6sj|2012-02-09 13:40|       u/pixelplayer|    0|Meeting a girl wt...|Edit update  Met ...|           8|\n",
      "|1j2igl|2013-07-25 20:46| u/frustratedwithmom|    3|Is there an accep...|Background info I...|           2|\n",
      "| dfev7|2010-09-17 17:18|         u/[deleted]|    1|Just broke up wit...|             deleted|           7|\n",
      "|10dhug|2012-09-23 22:08|   u/throwaway082692|    2|My fathers behavi...|Where to start I ...|           2|\n",
      "| bkm1o|2010-03-31 05:43|        u/spriteburn|    0|hacked gmail lead...|my gmail account ...|           5|\n",
      "| bzuqs|2010-05-04 06:24|    u/dating_a_freak|   10|Dating a Freak in...|So I have been wi...|          47|\n",
      "| bfzbc|2010-03-20 14:45|         u/[deleted]|    1|Slightly confused...|             deleted|           7|\n",
      "| j1s2v|2011-07-27 21:35|         u/[deleted]|    1|Why is moving on ...|Its been about 5 ...|           0|\n",
      "| bn71u|2010-04-06 11:24|    u/throwaway11212|    8|My boyfriend and ...|We were dating fo...|          53|\n",
      "| ml4rr|2011-11-21 23:31|u/isthisacrazyide...|    0|Is this a crazy f...|Me and my ex brok...|          14|\n",
      "| c253h|2010-05-10 09:38|       u/foolishguy2|    1|I messed up she w...|Hi Reddit was dat...|          48|\n",
      "| hthy4|2011-06-07 00:22|         u/[deleted]|    1|Right behind me o...|                null|           1|\n",
      "| ukgbm|2012-06-04 12:07|     u/someone_else_|    1|16m wanting some ...|My girlfriend and...|           1|\n",
      "|1e4yx6|2013-05-11 12:41|         u/[deleted]|    0|Should I 17F stil...|Okay so I want to...|           2|\n",
      "|1dpqzk|2013-05-04 22:33|         u/[deleted]|    1|My friend has bee...|Ive seen it with ...|           2|\n",
      "| fi1kq|2011-02-09 09:07|         u/[deleted]|    1|best place to mee...|                null|           2|\n",
      "| n8qce|2011-12-11 13:58|          u/Tisihani|    2|Broke up with BF ...|My BF M20 and I F...|          11|\n",
      "| o7046|2012-01-07 13:25|      u/Confused1992|   12|Girlfriend emotio...|   Im going to gi...|          20|\n",
      "| a4rj3|2009-11-15 23:19|         u/[deleted]|    1|Sex On The First ...|             deleted|           0|\n",
      "| xadm6|2012-07-28 00:45|u/emotionallyreta...|    5|22f in weird peud...|pseudorelationshi...|           6|\n",
      "|1hgnev|2013-07-01 19:02|         u/[deleted]|   13|Inexperienced ex ...|My ex and I had b...|          15|\n",
      "| ccs2d|2010-06-08 11:25|  u/throwaway3141592|    3|Broke up a few we...|Throwaway since I...|           2|\n",
      "|1ckaj6|2013-04-17 17:05|      u/bretrambrown|    8|My boyfriend has ...|Were young and in...|          10|\n",
      "| dmh90|2010-10-04 00:28|  u/ithinkimretarded|    0|Does this girl li...|Alright so Ive be...|           7|\n",
      "|17sa9o|2013-02-02 20:05|     u/themarchhare0|    3|26f Had first ser...|Had a pretty bad ...|          10|\n",
      "| yf4wt|2012-08-18 02:20|          u/buddha44|    3|Bad day gets wors...|So this isnt a th...|          13|\n",
      "| appk8|2010-01-14 14:53|            u/asb239|   16|Guy kept going so...|Hes a mid twentie...|          59|\n",
      "| xbwyp|2012-07-29 00:02|      u/khaleesidany|    2|How do you talk t...|I dont want to pr...|           9|\n",
      "|1bcc67|2013-03-30 23:12|     u/Ohitsheragain|    6|21f and 25m weve ...|My boyfriend and ...|           5|\n",
      "| q6g6w|2012-02-26 00:35|      u/confused_0ne|    4|confused need advice|Ok for starters i...|           4|\n",
      "|13dlpn|2012-11-17 19:10|   u/frankandbeaners|    3|Woman Ive been in...|This woman Ive kn...|           5|\n",
      "|12dahy|2012-10-30 18:55|         u/[deleted]|    2|23f not sure how ...|This will be long...|           0|\n",
      "| ckftl|2010-06-30 01:07|         u/[deleted]|    1|Should I walk awa...|             deleted|           0|\n",
      "| u76aa|2012-05-27 06:26|u/slash_ra_throwaway|    1|Live in GF put re...|This is sort of a...|           4|\n",
      "|1egobo|2013-05-16 12:44|       u/easydoesitt|    2|My gf 20f having ...|Background  I met...|           2|\n",
      "| ea172|2010-11-22 11:33|         u/[deleted]|    5|Lovers to friends...|             deleted|          10|\n",
      "| bzc3e|2010-05-03 04:22|      u/SoDamnLonely|    0|Im so damn lonely...|             removed|           3|\n",
      "|1jgj5p|2013-07-31 19:07|         u/[deleted]|    1|26f my husband 28...|My husband and I ...|           0|\n",
      "|1j9e8s|2013-07-29 00:45|         u/[deleted]|    2|Cognitive dissona...|Hi everyone  A ne...|           3|\n",
      "|10fbyo|2012-09-24 20:34|   u/throwawaaaay948|    6|we just broke up ...|im F25 my boyfrie...|          15|\n",
      "|14kglp|2012-12-09 16:15|         u/[deleted]|    1|18m Girl I love 2...|Up until now Ive ...|           2|\n",
      "|10j607|2012-09-26 17:47|         u/[deleted]|    0|Semildr Im 18m sh...|she lives about 4...|           0|\n",
      "|1jt3on|2013-08-06 07:50|      u/throway38883|    1|25MI met a girl21...|I think shes alwa...|          14|\n",
      "|17ivk6|2013-01-29 16:48|         u/[deleted]|    1|F25 Not Sure How ...|My boyfriend M29 ...|           0|\n",
      "|17bv63|2013-01-26 13:54|         u/[deleted]|    0|          First Kiss|what are some goo...|           1|\n",
      "|1j2ddt|2013-07-25 19:34|        u/grayman519|    7|21 M really want ...|Ive benn living w...|           8|\n",
      "| c57d4|2010-05-17 11:34|         u/[deleted]|    1|Party girl vs Who...|             deleted|           4|\n",
      "|117lg5|2012-10-09 14:34|      u/PracticeTest|   21|22M Ive made a ho...|Im facing four pr...|          27|\n",
      "|1gcggw|2013-06-14 11:20|         u/[deleted]|    2|28f needs serious...|I am a 28yo femal...|           3|\n",
      "|1f1zbi|2013-05-25 18:38|         u/[deleted]|    0|              Plan B|Ok me 17m and my ...|           2|\n",
      "| jrgcz|2011-08-23 01:43|       u/happybadger|    0|Girlfriends paren...|So to start off m...|          18|\n",
      "| g9i4q|2011-03-23 00:34|            u/memime|    1|I may have freake...|Needless to say t...|           5|\n",
      "| anizv|2010-01-09 07:34|         u/[deleted]|   10|Who is in a relat...|             deleted|          14|\n",
      "| ijjqv|2011-07-07 19:17|     u/Masterchiefg7|    3|         Please Help|Im a guy My girlf...|           5|\n",
      "| s27lz|2012-04-10 01:43|   u/swearimnotasnob|   20|How to deal with ...|I apologize if th...|          19|\n",
      "|17frc7|2013-01-28 11:22|         u/[deleted]|    1|19m i started tal...|So i met this gir...|           2|\n",
      "|10spaw|2012-10-01 21:52|      u/MsConfused93|    1|19f confused over...|So Ive been frien...|           0|\n",
      "| mh73p|2011-11-18 12:53|     u/throwaway123z|    9|Emotionally cheat...|Me 21 her 22 dati...|          57|\n",
      "| xf5og|2012-07-30 19:16|         u/[deleted]|    2|Apparently I 21f ...|Ive been seeing t...|           3|\n",
      "| g032f|2011-03-08 17:29|          u/c0de2010|    2|Housemate trouble...|Hey rrelationship...|           7|\n",
      "| vrrb9|2012-06-28 19:43|u/Genericthrowawa...|    2|M22 Life changing...|Alright so Ive be...|           1|\n",
      "|145i9v|2012-12-02 09:35|           u/Volbius|    2|18m I love a girl...|Shes amazing Funn...|           3|\n",
      "| zbgnd|2012-09-03 22:42|     u/loveandbeauty|    1|22F 25M wants me ...|I was in a relati...|           4|\n",
      "| cjl67|2010-06-27 13:56|       u/whatshudido|    2|Update on Tell me...|I think were done...|           6|\n",
      "| pqb74|2012-02-14 23:10|       u/dmonster567|    1|Quick question ab...|So I asked a girl...|           3|\n",
      "| zzamt|2012-09-16 13:11|u/YourDoingItAllW...|    1|Am I doing someth...|I recently just f...|           3|\n",
      "|141rbh|2012-11-30 06:03|         u/[deleted]|    9|21f Pretty sure I...|Background Wed be...|           5|\n",
      "|13o9rj|2012-11-23 11:29|         u/[deleted]|    1|At the moment I h...|I apologize if Im...|          17|\n",
      "| ck23b|2010-06-29 02:25|         u/[deleted]|    6|The Infamous Coll...|             deleted|           8|\n",
      "|1jbbmt|2013-07-29 19:16|         u/[deleted]|   11|Boyfriend 20m has...|I guess the first...|          25|\n",
      "|11hybz|2012-10-14 23:59|   u/supermegafuerte|    2|21m having a hard...|We met when I was...|           0|\n",
      "|17zx1t|2013-02-06 07:30|         u/[deleted]|    1|Been with a girl ...|Sup rrelationship...|          10|\n",
      "+------+----------------+--------------------+-----+--------------------+--------------------+------------+\n",
      "only showing top 100 rows"
     ]
    }
   ],
   "source": [
    "#Check if it was parsed correctly in parquet \n",
    "data_parquet.show(100)"
   ]
  },
  {
   "cell_type": "code",
   "execution_count": 13,
   "metadata": {},
   "outputs": [
    {
     "data": {
      "application/vnd.jupyter.widget-view+json": {
       "model_id": "",
       "version_major": 2,
       "version_minor": 0
      },
      "text/plain": [
       "FloatProgress(value=0.0, bar_style='info', description='Progress:', layout=Layout(height='25px', width='50%'),…"
      ]
     },
     "metadata": {},
     "output_type": "display_data"
    }
   ],
   "source": [
    "#Sources\n",
    "#https://spark.apache.org/docs/latest/sql-data-sources-csv.html\n"
   ]
  }
 ],
 "metadata": {
  "kernelspec": {
   "display_name": "PySpark",
   "language": "",
   "name": "pysparkkernel"
  },
  "language_info": {
   "codemirror_mode": {
    "name": "python",
    "version": 3
   },
   "mimetype": "text/x-python",
   "name": "pyspark",
   "pygments_lexer": "python3"
  }
 },
 "nbformat": 4,
 "nbformat_minor": 4
}
