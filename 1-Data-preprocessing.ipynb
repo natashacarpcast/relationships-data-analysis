{
 "cells": [
  {
   "cell_type": "code",
   "execution_count": 17,
   "metadata": {},
   "outputs": [
    {
     "data": {
      "application/vnd.jupyter.widget-view+json": {
       "model_id": "",
       "version_major": 2,
       "version_minor": 0
      },
      "text/plain": [
       "FloatProgress(value=0.0, bar_style='info', description='Progress:', layout=Layout(height='25px', width='50%'),…"
      ]
     },
     "metadata": {},
     "output_type": "display_data"
    },
    {
     "name": "stdout",
     "output_type": "stream",
     "text": [
      "'3.0.1-amzn-0'"
     ]
    }
   ],
   "source": [
    "sc.version"
   ]
  },
  {
   "cell_type": "code",
   "execution_count": 4,
   "metadata": {},
   "outputs": [
    {
     "name": "stdout",
     "output_type": "stream",
     "text": [
      "Starting Spark application\n"
     ]
    },
    {
     "data": {
      "text/html": [
       "<table>\n",
       "<tr><th>ID</th><th>YARN Application ID</th><th>Kind</th><th>State</th><th>Spark UI</th><th>Driver log</th><th>Current session?</th></tr><tr><td>1</td><td>application_1715403272843_0003</td><td>pyspark</td><td>idle</td><td><a target=\"_blank\" href=\"http://ip-172-31-26-196.ec2.internal:20888/proxy/application_1715403272843_0003/\">Link</a></td><td><a target=\"_blank\" href=\"http://ip-172-31-27-207.ec2.internal:8042/node/containerlogs/container_1715403272843_0003_01_000001/livy\">Link</a></td><td>✔</td></tr></table>"
      ],
      "text/plain": [
       "<IPython.core.display.HTML object>"
      ]
     },
     "metadata": {},
     "output_type": "display_data"
    },
    {
     "data": {
      "application/vnd.jupyter.widget-view+json": {
       "model_id": "",
       "version_major": 2,
       "version_minor": 0
      },
      "text/plain": [
       "FloatProgress(value=0.0, bar_style='info', description='Progress:', layout=Layout(height='25px', width='50%'),…"
      ]
     },
     "metadata": {},
     "output_type": "display_data"
    },
    {
     "name": "stdout",
     "output_type": "stream",
     "text": [
      "SparkSession available as 'spark'.\n"
     ]
    },
    {
     "data": {
      "text/html": [
       "Current session configs: <tt>{'conf': {'spark.pyspark.python': 'python3', 'spark.pyspark.virtualenv.enabled': 'true', 'spark.pyspark.virtualenv.type': 'native', 'spark.pyspark.virtualenv.bin.path': '/usr/bin/virtualenv'}, 'proxyUser': 'jovyan', 'kind': 'pyspark'}</tt><br>"
      ],
      "text/plain": [
       "<IPython.core.display.HTML object>"
      ]
     },
     "metadata": {},
     "output_type": "display_data"
    },
    {
     "data": {
      "text/html": [
       "<table>\n",
       "<tr><th>ID</th><th>YARN Application ID</th><th>Kind</th><th>State</th><th>Spark UI</th><th>Driver log</th><th>Current session?</th></tr><tr><td>1</td><td>application_1715403272843_0003</td><td>pyspark</td><td>idle</td><td><a target=\"_blank\" href=\"http://ip-172-31-26-196.ec2.internal:20888/proxy/application_1715403272843_0003/\">Link</a></td><td><a target=\"_blank\" href=\"http://ip-172-31-27-207.ec2.internal:8042/node/containerlogs/container_1715403272843_0003_01_000001/livy\">Link</a></td><td>✔</td></tr></table>"
      ],
      "text/plain": [
       "<IPython.core.display.HTML object>"
      ]
     },
     "metadata": {},
     "output_type": "display_data"
    }
   ],
   "source": [
    "#Set up environment\n",
    "\n",
    "%%configure -f\n",
    "{\n",
    "    \"conf\": {\n",
    "        \"spark.pyspark.python\": \"python3\",\n",
    "        \"spark.pyspark.virtualenv.enabled\": \"true\",\n",
    "        \"spark.pyspark.virtualenv.type\":\"native\",\n",
    "        \"spark.pyspark.virtualenv.bin.path\":\"/usr/bin/virtualenv\"\n",
    "    }\n",
    "}"
   ]
  },
  {
   "cell_type": "code",
   "execution_count": 5,
   "metadata": {},
   "outputs": [
    {
     "data": {
      "application/vnd.jupyter.widget-view+json": {
       "model_id": "",
       "version_major": 2,
       "version_minor": 0
      },
      "text/plain": [
       "FloatProgress(value=0.0, bar_style='info', description='Progress:', layout=Layout(height='25px', width='50%'),…"
      ]
     },
     "metadata": {},
     "output_type": "display_data"
    },
    {
     "name": "stdout",
     "output_type": "stream",
     "text": [
      "Package                    Version   \n",
      "-------------------------- ----------\n",
      "beautifulsoup4             4.9.3     \n",
      "boto                       2.49.0    \n",
      "click                      7.1.2     \n",
      "jmespath                   0.10.0    \n",
      "joblib                     0.17.0    \n",
      "lxml                       4.6.1     \n",
      "mysqlclient                1.4.2     \n",
      "nltk                       3.5       \n",
      "nose                       1.3.4     \n",
      "numpy                      1.16.5    \n",
      "pip                        9.0.1     \n",
      "py-dateutil                2.2       \n",
      "python37-sagemaker-pyspark 1.4.1     \n",
      "pytz                       2020.1    \n",
      "PyYAML                     5.3.1     \n",
      "regex                      2020.10.28\n",
      "setuptools                 28.8.0    \n",
      "six                        1.13.0    \n",
      "tqdm                       4.51.0    \n",
      "wheel                      0.29.0    \n",
      "windmill                   1.6"
     ]
    }
   ],
   "source": [
    "#Check existing packages\n",
    "sc.list_packages()"
   ]
  },
  {
   "cell_type": "code",
   "execution_count": 11,
   "metadata": {},
   "outputs": [
    {
     "data": {
      "application/vnd.jupyter.widget-view+json": {
       "model_id": "",
       "version_major": 2,
       "version_minor": 0
      },
      "text/plain": [
       "FloatProgress(value=0.0, bar_style='info', description='Progress:', layout=Layout(height='25px', width='50%'),…"
      ]
     },
     "metadata": {},
     "output_type": "display_data"
    },
    {
     "name": "stdout",
     "output_type": "stream",
     "text": [
      "Collecting pandas==1.0.5\n",
      "  Downloading https://files.pythonhosted.org/packages/af/f3/683bf2547a3eaeec15b39cef86f61e921b3b187f250fcd2b5c5fb4386369/pandas-1.0.5-cp37-cp37m-manylinux1_x86_64.whl (10.1MB)\n",
      "Requirement already satisfied: numpy>=1.13.3 in /usr/local/lib64/python3.7/site-packages (from pandas==1.0.5)\n",
      "Collecting python-dateutil>=2.6.1 (from pandas==1.0.5)\n",
      "  Downloading https://files.pythonhosted.org/packages/ec/57/56b9bcc3c9c6a792fcbaf139543cee77261f3651ca9da0c93f5c1221264b/python_dateutil-2.9.0.post0-py2.py3-none-any.whl (229kB)\n",
      "Requirement already satisfied: pytz>=2017.2 in /usr/local/lib/python3.7/site-packages (from pandas==1.0.5)\n",
      "Requirement already satisfied: six>=1.5 in /usr/local/lib/python3.7/site-packages (from python-dateutil>=2.6.1->pandas==1.0.5)\n",
      "Installing collected packages: python-dateutil, pandas\n",
      "Successfully installed pandas-1.0.5 python-dateutil-2.9.0.post0"
     ]
    }
   ],
   "source": [
    "#Install pandas to be able to work with dataframes\n",
    "sc.install_pypi_package(\"pandas==1.0.5\", \"https://pypi.org/simple\")\n"
   ]
  },
  {
   "cell_type": "code",
   "execution_count": 13,
   "metadata": {},
   "outputs": [
    {
     "data": {
      "application/vnd.jupyter.widget-view+json": {
       "model_id": "",
       "version_major": 2,
       "version_minor": 0
      },
      "text/plain": [
       "FloatProgress(value=0.0, bar_style='info', description='Progress:', layout=Layout(height='25px', width='50%'),…"
      ]
     },
     "metadata": {},
     "output_type": "display_data"
    }
   ],
   "source": [
    "data = spark.read.csv('s3://finalproject-nat-s3/submissions.csv', \n",
    "                      header=True, \n",
    "                      inferSchema=True)"
   ]
  },
  {
   "cell_type": "code",
   "execution_count": 14,
   "metadata": {},
   "outputs": [
    {
     "data": {
      "application/vnd.jupyter.widget-view+json": {
       "model_id": "",
       "version_major": 2,
       "version_minor": 0
      },
      "text/plain": [
       "FloatProgress(value=0.0, bar_style='info', description='Progress:', layout=Layout(height='25px', width='50%'),…"
      ]
     },
     "metadata": {},
     "output_type": "display_data"
    },
    {
     "name": "stdout",
     "output_type": "stream",
     "text": [
      "Total Columns: 7\n",
      "Total Rows: 11500261\n",
      "root\n",
      " |-- id: string (nullable = true)\n",
      " |-- created: string (nullable = true)\n",
      " |-- author: string (nullable = true)\n",
      " |-- score: string (nullable = true)\n",
      " |-- title: string (nullable = true)\n",
      " |-- selftext: string (nullable = true)\n",
      " |-- num_comments: string (nullable = true)"
     ]
    }
   ],
   "source": [
    "#See structure of the dataframe \n",
    "print('Total Columns: %d' % len(data.dtypes))\n",
    "print('Total Rows: %d' % data.count())\n",
    "data.printSchema()"
   ]
  },
  {
   "cell_type": "code",
   "execution_count": 16,
   "metadata": {},
   "outputs": [
    {
     "data": {
      "application/vnd.jupyter.widget-view+json": {
       "model_id": "",
       "version_major": 2,
       "version_minor": 0
      },
      "text/plain": [
       "FloatProgress(value=0.0, bar_style='info', description='Progress:', layout=Layout(height='25px', width='50%'),…"
      ]
     },
     "metadata": {},
     "output_type": "display_data"
    },
    {
     "name": "stderr",
     "output_type": "stream",
     "text": [
      "An error was encountered:\n",
      "'DataFrame' object has no attribute 'to_parquet'\n",
      "Traceback (most recent call last):\n",
      "  File \"/usr/lib/spark/python/lib/pyspark.zip/pyspark/sql/dataframe.py\", line 1403, in __getattr__\n",
      "    \"'%s' object has no attribute '%s'\" % (self.__class__.__name__, name))\n",
      "AttributeError: 'DataFrame' object has no attribute 'to_parquet'\n",
      "\n"
     ]
    }
   ],
   "source": [
    "#Convert to parquet for optimizing storage and speedup\n",
    "data.to_parquet('%s/s3://finalproject-nat-s3/submissions.parquet' % path)"
   ]
  },
  {
   "cell_type": "code",
   "execution_count": 20,
   "metadata": {},
   "outputs": [
    {
     "data": {
      "application/vnd.jupyter.widget-view+json": {
       "model_id": "",
       "version_major": 2,
       "version_minor": 0
      },
      "text/plain": [
       "FloatProgress(value=0.0, bar_style='info', description='Progress:', layout=Layout(height='25px', width='50%'),…"
      ]
     },
     "metadata": {},
     "output_type": "display_data"
    },
    {
     "name": "stdout",
     "output_type": "stream",
     "text": [
      "+-----+----------------+-------------+-----+--------------------+---------+------------+\n",
      "|   id|         created|       author|score|               title| selftext|num_comments|\n",
      "+-----+----------------+-------------+-----+--------------------+---------+------------+\n",
      "|8shht|2009-06-14 18:22|  u/[deleted]|    9|Introducing the R...|[deleted]|           1|\n",
      "|8si6m|2009-06-14 20:42|  u/[deleted]|   18|Potential Reddit ...|[deleted]|          18|\n",
      "|8sur3|2009-06-16 00:19|  u/[deleted]|    7|How do I get over...|[deleted]|           8|\n",
      "|8sw2f|2009-06-16 03:30|u/notmyrealsn|    3|Long distance rel...|     null|           9|\n",
      "|8swor|2009-06-16 05:01|        u/cr3|   10|Name your favouri...|     null|          20|\n",
      "|8sx2g|2009-06-16 05:58|  u/[deleted]|    2|Dear Reddit, need...|[deleted]|           7|\n",
      "|8t0lu|2009-06-16 12:13|u/rogerssucks|    1|\"How many of you ...|     null|           3|\n",
      "|8t1b6|2009-06-16 13:22|  u/[deleted]|    5|I kept up contact...|[deleted]|           5|\n",
      "|8t1rm|2009-06-16 14:10|  u/switching|    4|Switching - How d...|     null|           7|\n",
      "|8t4w3|2009-06-16 21:03|  u/[deleted]|    2|This girl things ...|[deleted]|           9|\n",
      "+-----+----------------+-------------+-----+--------------------+---------+------------+\n",
      "only showing top 10 rows"
     ]
    }
   ],
   "source": [
    "#Visualize structure of values\n",
    "data.show(10)"
   ]
  },
  {
   "cell_type": "code",
   "execution_count": 25,
   "metadata": {},
   "outputs": [
    {
     "data": {
      "application/vnd.jupyter.widget-view+json": {
       "model_id": "",
       "version_major": 2,
       "version_minor": 0
      },
      "text/plain": [
       "FloatProgress(value=0.0, bar_style='info', description='Progress:', layout=Layout(height='25px', width='50%'),…"
      ]
     },
     "metadata": {},
     "output_type": "display_data"
    },
    {
     "name": "stdout",
     "output_type": "stream",
     "text": [
      "+--------------------+--------------------+--------------------+--------------------+--------------------+--------------------+--------------------+\n",
      "|                  id|             created|              author|               score|               title|            selftext|        num_comments|\n",
      "+--------------------+--------------------+--------------------+--------------------+--------------------+--------------------+--------------------+\n",
      "|               8tw9m|    2009-06-19 08:33|         u/[deleted]|                   7|How do you move p...|I am currently go...|                null|\n",
      "|The fact that our...| but it is probab...| when I lie in be...|             snoring| as he did during...| the sensation of...|                  19|\n",
      "|               8u1vm|    2009-06-19 20:34|         u/[deleted]|                   4|About to start a ...|\"My girlfriend an...| however our sche...|\n",
      "|         Beyond that|                well| it's up the air....| part of me sees ...|                 yes| but I look at he...| if that makes se...|\n",
      "|                  So| my question to y...| and if you have ...| so I'm sure we d...| but maybe someon...| if anyone has an...| that would be gr...|\n",
      "+--------------------+--------------------+--------------------+--------------------+--------------------+--------------------+--------------------+\n",
      "only showing top 5 rows"
     ]
    }
   ],
   "source": [
    "#For context, selftext refers to the body text of the submission\n",
    "\n",
    "#We can see that there are a lot of deleted entries. I also know there are \"[removed]\" values as well.\n",
    "#It is necessary to clean the following:\n",
    "#[deleted], [removed], empty/null\n",
    "\n",
    "filtered_data = data.filter(data['selftext'] != \"[deleted]\")\n",
    "filtered_data = filtered_data.filter(filtered_data['selftext'] != \"[removed]\")\n",
    "\n",
    "\n",
    "filtered_data.show(5)\n"
   ]
  },
  {
   "cell_type": "code",
   "execution_count": 27,
   "metadata": {},
   "outputs": [
    {
     "data": {
      "application/vnd.jupyter.widget-view+json": {
       "model_id": "",
       "version_major": 2,
       "version_minor": 0
      },
      "text/plain": [
       "FloatProgress(value=0.0, bar_style='info', description='Progress:', layout=Layout(height='25px', width='50%'),…"
      ]
     },
     "metadata": {},
     "output_type": "display_data"
    },
    {
     "name": "stdout",
     "output_type": "stream",
     "text": [
      "+--------------------+\n",
      "|            selftext|\n",
      "+--------------------+\n",
      "|I am currently go...|\n",
      "| the sensation of...|\n",
      "|\"My girlfriend an...|\n",
      "| but I look at he...|\n",
      "| if anyone has an...|\n",
      "+--------------------+\n",
      "only showing top 5 rows"
     ]
    }
   ],
   "source": [
    "#Looks messy, so I'll take a look just at the selftext column\n",
    "\n",
    "filtered_data[['selftext']].show(5)\n"
   ]
  },
  {
   "cell_type": "code",
   "execution_count": null,
   "metadata": {},
   "outputs": [],
   "source": [
    "#Sources\n",
    "#https://spark.apache.org/docs/latest/sql-data-sources-csv.html\n"
   ]
  }
 ],
 "metadata": {
  "kernelspec": {
   "display_name": "PySpark",
   "language": "",
   "name": "pysparkkernel"
  },
  "language_info": {
   "codemirror_mode": {
    "name": "python",
    "version": 3
   },
   "mimetype": "text/x-python",
   "name": "pyspark",
   "pygments_lexer": "python3"
  }
 },
 "nbformat": 4,
 "nbformat_minor": 4
}
