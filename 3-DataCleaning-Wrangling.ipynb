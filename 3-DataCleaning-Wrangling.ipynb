{
 "cells": [
  {
   "cell_type": "markdown",
   "metadata": {},
   "source": [
    "## Prepare Session"
   ]
  },
  {
   "cell_type": "code",
   "execution_count": 1,
   "metadata": {},
   "outputs": [
    {
     "data": {
      "text/html": [
       "Current session configs: <tt>{'conf': {'spark.pyspark.python': 'python3', 'spark.pyspark.virtualenv.enabled': 'true', 'spark.pyspark.virtualenv.type': 'native', 'spark.pyspark.virtualenv.bin.path': '/usr/bin/virtualenv'}, 'proxyUser': 'jovyan', 'kind': 'pyspark'}</tt><br>"
      ],
      "text/plain": [
       "<IPython.core.display.HTML object>"
      ]
     },
     "metadata": {},
     "output_type": "display_data"
    },
    {
     "data": {
      "text/html": [
       "No active sessions."
      ],
      "text/plain": [
       "<IPython.core.display.HTML object>"
      ]
     },
     "metadata": {},
     "output_type": "display_data"
    }
   ],
   "source": [
    "%%configure -f\n",
    "{\n",
    "    \"conf\": {\n",
    "        \"spark.pyspark.python\": \"python3\",\n",
    "        \"spark.pyspark.virtualenv.enabled\": \"true\",\n",
    "        \"spark.pyspark.virtualenv.type\":\"native\",\n",
    "        \"spark.pyspark.virtualenv.bin.path\":\"/usr/bin/virtualenv\"\n",
    "    }\n",
    "}"
   ]
  },
  {
   "cell_type": "code",
   "execution_count": 2,
   "metadata": {
    "scrolled": true
   },
   "outputs": [
    {
     "name": "stdout",
     "output_type": "stream",
     "text": [
      "Starting Spark application\n"
     ]
    },
    {
     "data": {
      "text/html": [
       "<table>\n",
       "<tr><th>ID</th><th>YARN Application ID</th><th>Kind</th><th>State</th><th>Spark UI</th><th>Driver log</th><th>Current session?</th></tr><tr><td>0</td><td>application_1716248275962_0002</td><td>pyspark</td><td>idle</td><td><a target=\"_blank\" href=\"http://ip-172-31-26-166.ec2.internal:20888/proxy/application_1716248275962_0002/\">Link</a></td><td><a target=\"_blank\" href=\"http://ip-172-31-23-84.ec2.internal:8042/node/containerlogs/container_1716248275962_0002_01_000001/livy\">Link</a></td><td>✔</td></tr></table>"
      ],
      "text/plain": [
       "<IPython.core.display.HTML object>"
      ]
     },
     "metadata": {},
     "output_type": "display_data"
    },
    {
     "data": {
      "application/vnd.jupyter.widget-view+json": {
       "model_id": "",
       "version_major": 2,
       "version_minor": 0
      },
      "text/plain": [
       "FloatProgress(value=0.0, bar_style='info', description='Progress:', layout=Layout(height='25px', width='50%'),…"
      ]
     },
     "metadata": {},
     "output_type": "display_data"
    },
    {
     "name": "stdout",
     "output_type": "stream",
     "text": [
      "SparkSession available as 'spark'.\n"
     ]
    },
    {
     "data": {
      "application/vnd.jupyter.widget-view+json": {
       "model_id": "",
       "version_major": 2,
       "version_minor": 0
      },
      "text/plain": [
       "FloatProgress(value=0.0, bar_style='info', description='Progress:', layout=Layout(height='25px', width='50%'),…"
      ]
     },
     "metadata": {},
     "output_type": "display_data"
    }
   ],
   "source": [
    "import pyspark.sql.functions as F"
   ]
  },
  {
   "cell_type": "markdown",
   "metadata": {},
   "source": [
    "## Explore data"
   ]
  },
  {
   "cell_type": "code",
   "execution_count": 3,
   "metadata": {},
   "outputs": [
    {
     "data": {
      "application/vnd.jupyter.widget-view+json": {
       "model_id": "",
       "version_major": 2,
       "version_minor": 0
      },
      "text/plain": [
       "FloatProgress(value=0.0, bar_style='info', description='Progress:', layout=Layout(height='25px', width='50%'),…"
      ]
     },
     "metadata": {},
     "output_type": "display_data"
    }
   ],
   "source": [
    "df_parquet = spark.read.parquet('s3://finalproject-nat-s3/submissions_parquet/*.parquet')"
   ]
  },
  {
   "cell_type": "code",
   "execution_count": 4,
   "metadata": {
    "scrolled": false
   },
   "outputs": [
    {
     "data": {
      "application/vnd.jupyter.widget-view+json": {
       "model_id": "",
       "version_major": 2,
       "version_minor": 0
      },
      "text/plain": [
       "FloatProgress(value=0.0, bar_style='info', description='Progress:', layout=Layout(height='25px', width='50%'),…"
      ]
     },
     "metadata": {},
     "output_type": "display_data"
    },
    {
     "name": "stdout",
     "output_type": "stream",
     "text": [
      "+------+----------------+--------------------+-----+--------------------+--------------------+------------+\n",
      "|    id|         created|              author|score|               title|            selftext|num_comments|\n",
      "+------+----------------+--------------------+-----+--------------------+--------------------+------------+\n",
      "|1fceq2|2013-05-30 11:28|           u/rlh1271|   59|24m My girlfriend...|Weve been dating ...|         124|\n",
      "| cw6d6|2010-08-01 16:23|u/longdistance_throw|    4|What are some goo...|Hi friends youve ...|          12|\n",
      "|1j2am7|2013-07-25 18:54|         u/[deleted]|    2|24m My wife 23f C...|Hi Reddit Been co...|           7|\n",
      "|16k90k|2013-01-14 12:04|        u/RoboDinner|    1|Need gift advice ...|Ive been seeing a...|          13|\n",
      "| yvqn2|2012-08-26 20:45|   u/MaddenInGeneral|    1|21m Help dealing ...|I need some help ...|           6|\n",
      "| bn3ib|2010-04-06 07:21|         u/[deleted]|    2|Unhealthy relatio...|Note sorry but to...|          15|\n",
      "|14a0go|2012-12-04 14:00|         u/[deleted]|    1|28M Feel like thi...|Frist some backgr...|           6|\n",
      "| g2dzv|2011-03-11 21:36|        u/Freshman69|    9|I need relationsh...|Figured this woul...|          18|\n",
      "| f0gz5|2011-01-11 15:40|         u/[deleted]|    2| Am I being an idiot|15 year relations...|           9|\n",
      "|1eeykc|2013-05-15 18:10|        u/WolfChrist|    1|M20 confused abou...|So I met this rea...|           6|\n",
      "| tqkcx|2012-05-16 16:16|     u/Threw-1t-Away|    1|Did I fuck it up ...|Ill try to keep t...|           1|\n",
      "|1givwt|2013-06-17 11:45| u/strawberryfields7|    0|Bf m24 dumps me o...|we were going out...|           9|\n",
      "|14ppyv|2012-12-12 00:43|         u/[deleted]|    0|Welp Now Im 22m s...|I dont think I ha...|           4|\n",
      "|16msny|2013-01-15 13:05|        u/ColdSilver|    1|23F Confused abou...|Ok so lets start ...|           9|\n",
      "| ggow7|2011-04-01 16:02|u/PresidentTylerD...|    1|   What do I do next|Well I met this g...|           5|\n",
      "| lkt68|2011-10-22 01:29|         u/[deleted]|    3|Trying to initiat...|Hey rrelationship...|           5|\n",
      "|142ihr|2012-11-30 14:46|      u/TooTallJones|    3|Girl 19F admits a...|Hello my fellow r...|           2|\n",
      "| hdhq9|2011-05-17 12:03|            u/impror|    3|  Nothing but stress|Hello Reddit   Mi...|          15|\n",
      "|1a4w2e|2013-03-12 01:45|     u/throwaway6478|    0|How did you know ...|I dont have the e...|           4|\n",
      "| pex58|2012-02-07 11:54|            u/LTCRDJ|    5|   Need advice badly|So I am 28m and I...|           5|\n",
      "| bgb3u|2010-03-21 16:42|         u/[deleted]|    1|How would you def...|             removed|           0|\n",
      "| nuirf|2011-12-28 22:29|       u/alexandriac|    6|Should I ask my b...|My boyfriend 22 a...|          12|\n",
      "| cjpfj|2010-06-27 22:49|          u/moreaman|    8|Inferiority compl...|Sorry its so long...|          20|\n",
      "|112440|2012-10-06 16:17|        u/Innedainfo|    1|Need help with ex...|My gf and I separ...|           3|\n",
      "| b8ifd|2010-03-02 20:58|          u/Chandlin|   94|Married but still...|I am a 23 year ol...|         280|\n",
      "| veyqp|2012-06-21 21:23|         u/[deleted]|    8|Boyfriends parent...|My boyfriend and ...|           6|\n",
      "| pl5fc|2012-02-11 14:49|          u/MinxMojo|   11|Has my husband ce...|I am a mother of ...|          22|\n",
      "| nl5v8|2011-12-21 05:44|         u/[deleted]|    0|Girlfriend seems ...|Im just kind of a...|           4|\n",
      "| pi6sj|2012-02-09 13:40|       u/pixelplayer|    0|Meeting a girl wt...|Edit update  Met ...|           8|\n",
      "|1j2igl|2013-07-25 20:46| u/frustratedwithmom|    3|Is there an accep...|Background info I...|           2|\n",
      "| dfev7|2010-09-17 17:18|         u/[deleted]|    1|Just broke up wit...|             deleted|           7|\n",
      "|10dhug|2012-09-23 22:08|   u/throwaway082692|    2|My fathers behavi...|Where to start I ...|           2|\n",
      "| bkm1o|2010-03-31 05:43|        u/spriteburn|    0|hacked gmail lead...|my gmail account ...|           5|\n",
      "| bzuqs|2010-05-04 06:24|    u/dating_a_freak|   10|Dating a Freak in...|So I have been wi...|          47|\n",
      "| bfzbc|2010-03-20 14:45|         u/[deleted]|    1|Slightly confused...|             deleted|           7|\n",
      "| j1s2v|2011-07-27 21:35|         u/[deleted]|    1|Why is moving on ...|Its been about 5 ...|           0|\n",
      "| bn71u|2010-04-06 11:24|    u/throwaway11212|    8|My boyfriend and ...|We were dating fo...|          53|\n",
      "| ml4rr|2011-11-21 23:31|u/isthisacrazyide...|    0|Is this a crazy f...|Me and my ex brok...|          14|\n",
      "| c253h|2010-05-10 09:38|       u/foolishguy2|    1|I messed up she w...|Hi Reddit was dat...|          48|\n",
      "| hthy4|2011-06-07 00:22|         u/[deleted]|    1|Right behind me o...|                null|           1|\n",
      "| ukgbm|2012-06-04 12:07|     u/someone_else_|    1|16m wanting some ...|My girlfriend and...|           1|\n",
      "|1e4yx6|2013-05-11 12:41|         u/[deleted]|    0|Should I 17F stil...|Okay so I want to...|           2|\n",
      "|1dpqzk|2013-05-04 22:33|         u/[deleted]|    1|My friend has bee...|Ive seen it with ...|           2|\n",
      "| fi1kq|2011-02-09 09:07|         u/[deleted]|    1|best place to mee...|                null|           2|\n",
      "| n8qce|2011-12-11 13:58|          u/Tisihani|    2|Broke up with BF ...|My BF M20 and I F...|          11|\n",
      "| o7046|2012-01-07 13:25|      u/Confused1992|   12|Girlfriend emotio...|   Im going to gi...|          20|\n",
      "| a4rj3|2009-11-15 23:19|         u/[deleted]|    1|Sex On The First ...|             deleted|           0|\n",
      "| xadm6|2012-07-28 00:45|u/emotionallyreta...|    5|22f in weird peud...|pseudorelationshi...|           6|\n",
      "|1hgnev|2013-07-01 19:02|         u/[deleted]|   13|Inexperienced ex ...|My ex and I had b...|          15|\n",
      "| ccs2d|2010-06-08 11:25|  u/throwaway3141592|    3|Broke up a few we...|Throwaway since I...|           2|\n",
      "|1ckaj6|2013-04-17 17:05|      u/bretrambrown|    8|My boyfriend has ...|Were young and in...|          10|\n",
      "| dmh90|2010-10-04 00:28|  u/ithinkimretarded|    0|Does this girl li...|Alright so Ive be...|           7|\n",
      "|17sa9o|2013-02-02 20:05|     u/themarchhare0|    3|26f Had first ser...|Had a pretty bad ...|          10|\n",
      "| yf4wt|2012-08-18 02:20|          u/buddha44|    3|Bad day gets wors...|So this isnt a th...|          13|\n",
      "| appk8|2010-01-14 14:53|            u/asb239|   16|Guy kept going so...|Hes a mid twentie...|          59|\n",
      "| xbwyp|2012-07-29 00:02|      u/khaleesidany|    2|How do you talk t...|I dont want to pr...|           9|\n",
      "|1bcc67|2013-03-30 23:12|     u/Ohitsheragain|    6|21f and 25m weve ...|My boyfriend and ...|           5|\n",
      "| q6g6w|2012-02-26 00:35|      u/confused_0ne|    4|confused need advice|Ok for starters i...|           4|\n",
      "|13dlpn|2012-11-17 19:10|   u/frankandbeaners|    3|Woman Ive been in...|This woman Ive kn...|           5|\n",
      "|12dahy|2012-10-30 18:55|         u/[deleted]|    2|23f not sure how ...|This will be long...|           0|\n",
      "| ckftl|2010-06-30 01:07|         u/[deleted]|    1|Should I walk awa...|             deleted|           0|\n",
      "| u76aa|2012-05-27 06:26|u/slash_ra_throwaway|    1|Live in GF put re...|This is sort of a...|           4|\n",
      "|1egobo|2013-05-16 12:44|       u/easydoesitt|    2|My gf 20f having ...|Background  I met...|           2|\n",
      "| ea172|2010-11-22 11:33|         u/[deleted]|    5|Lovers to friends...|             deleted|          10|\n",
      "| bzc3e|2010-05-03 04:22|      u/SoDamnLonely|    0|Im so damn lonely...|             removed|           3|\n",
      "|1jgj5p|2013-07-31 19:07|         u/[deleted]|    1|26f my husband 28...|My husband and I ...|           0|\n",
      "|1j9e8s|2013-07-29 00:45|         u/[deleted]|    2|Cognitive dissona...|Hi everyone  A ne...|           3|\n",
      "|10fbyo|2012-09-24 20:34|   u/throwawaaaay948|    6|we just broke up ...|im F25 my boyfrie...|          15|\n",
      "|14kglp|2012-12-09 16:15|         u/[deleted]|    1|18m Girl I love 2...|Up until now Ive ...|           2|\n",
      "|10j607|2012-09-26 17:47|         u/[deleted]|    0|Semildr Im 18m sh...|she lives about 4...|           0|\n",
      "|1jt3on|2013-08-06 07:50|      u/throway38883|    1|25MI met a girl21...|I think shes alwa...|          14|\n",
      "|17ivk6|2013-01-29 16:48|         u/[deleted]|    1|F25 Not Sure How ...|My boyfriend M29 ...|           0|\n",
      "|17bv63|2013-01-26 13:54|         u/[deleted]|    0|          First Kiss|what are some goo...|           1|\n",
      "|1j2ddt|2013-07-25 19:34|        u/grayman519|    7|21 M really want ...|Ive benn living w...|           8|\n",
      "| c57d4|2010-05-17 11:34|         u/[deleted]|    1|Party girl vs Who...|             deleted|           4|\n",
      "|117lg5|2012-10-09 14:34|      u/PracticeTest|   21|22M Ive made a ho...|Im facing four pr...|          27|\n",
      "|1gcggw|2013-06-14 11:20|         u/[deleted]|    2|28f needs serious...|I am a 28yo femal...|           3|\n",
      "|1f1zbi|2013-05-25 18:38|         u/[deleted]|    0|              Plan B|Ok me 17m and my ...|           2|\n",
      "| jrgcz|2011-08-23 01:43|       u/happybadger|    0|Girlfriends paren...|So to start off m...|          18|\n",
      "| g9i4q|2011-03-23 00:34|            u/memime|    1|I may have freake...|Needless to say t...|           5|\n",
      "| anizv|2010-01-09 07:34|         u/[deleted]|   10|Who is in a relat...|             deleted|          14|\n",
      "| ijjqv|2011-07-07 19:17|     u/Masterchiefg7|    3|         Please Help|Im a guy My girlf...|           5|\n",
      "| s27lz|2012-04-10 01:43|   u/swearimnotasnob|   20|How to deal with ...|I apologize if th...|          19|\n",
      "|17frc7|2013-01-28 11:22|         u/[deleted]|    1|19m i started tal...|So i met this gir...|           2|\n",
      "|10spaw|2012-10-01 21:52|      u/MsConfused93|    1|19f confused over...|So Ive been frien...|           0|\n",
      "| mh73p|2011-11-18 12:53|     u/throwaway123z|    9|Emotionally cheat...|Me 21 her 22 dati...|          57|\n",
      "| xf5og|2012-07-30 19:16|         u/[deleted]|    2|Apparently I 21f ...|Ive been seeing t...|           3|\n",
      "| g032f|2011-03-08 17:29|          u/c0de2010|    2|Housemate trouble...|Hey rrelationship...|           7|\n",
      "| vrrb9|2012-06-28 19:43|u/Genericthrowawa...|    2|M22 Life changing...|Alright so Ive be...|           1|\n",
      "|145i9v|2012-12-02 09:35|           u/Volbius|    2|18m I love a girl...|Shes amazing Funn...|           3|\n",
      "| zbgnd|2012-09-03 22:42|     u/loveandbeauty|    1|22F 25M wants me ...|I was in a relati...|           4|\n",
      "| cjl67|2010-06-27 13:56|       u/whatshudido|    2|Update on Tell me...|I think were done...|           6|\n",
      "| pqb74|2012-02-14 23:10|       u/dmonster567|    1|Quick question ab...|So I asked a girl...|           3|\n",
      "| zzamt|2012-09-16 13:11|u/YourDoingItAllW...|    1|Am I doing someth...|I recently just f...|           3|\n",
      "|141rbh|2012-11-30 06:03|         u/[deleted]|    9|21f Pretty sure I...|Background Wed be...|           5|\n",
      "|13o9rj|2012-11-23 11:29|         u/[deleted]|    1|At the moment I h...|I apologize if Im...|          17|\n",
      "| ck23b|2010-06-29 02:25|         u/[deleted]|    6|The Infamous Coll...|             deleted|           8|\n",
      "|1jbbmt|2013-07-29 19:16|         u/[deleted]|   11|Boyfriend 20m has...|I guess the first...|          25|\n",
      "|11hybz|2012-10-14 23:59|   u/supermegafuerte|    2|21m having a hard...|We met when I was...|           0|\n",
      "|17zx1t|2013-02-06 07:30|         u/[deleted]|    1|Been with a girl ...|Sup rrelationship...|          10|\n",
      "+------+----------------+--------------------+-----+--------------------+--------------------+------------+\n",
      "only showing top 100 rows"
     ]
    }
   ],
   "source": [
    "#Show many rows to ensure correct parsing\n",
    "df_parquet.show(100)"
   ]
  },
  {
   "cell_type": "code",
   "execution_count": 5,
   "metadata": {},
   "outputs": [
    {
     "data": {
      "application/vnd.jupyter.widget-view+json": {
       "model_id": "",
       "version_major": 2,
       "version_minor": 0
      },
      "text/plain": [
       "FloatProgress(value=0.0, bar_style='info', description='Progress:', layout=Layout(height='25px', width='50%'),…"
      ]
     },
     "metadata": {},
     "output_type": "display_data"
    },
    {
     "name": "stdout",
     "output_type": "stream",
     "text": [
      "Total Columns: 7\n",
      "Total Rows: 4357389\n",
      "root\n",
      " |-- id: string (nullable = true)\n",
      " |-- created: string (nullable = true)\n",
      " |-- author: string (nullable = true)\n",
      " |-- score: string (nullable = true)\n",
      " |-- title: string (nullable = true)\n",
      " |-- selftext: string (nullable = true)\n",
      " |-- num_comments: string (nullable = true)"
     ]
    }
   ],
   "source": [
    "#See structure of the dataframe \n",
    "print('Total Columns: %d' % len(df_parquet.dtypes))\n",
    "print('Total Rows: %d' % df_parquet.count())\n",
    "df_parquet.printSchema()"
   ]
  },
  {
   "cell_type": "markdown",
   "metadata": {},
   "source": [
    "## Remove rows with missing \"selftext\"\n",
    "\n",
    "For context, selftext refers to the body text of the submission\n"
   ]
  },
  {
   "cell_type": "code",
   "execution_count": 6,
   "metadata": {},
   "outputs": [
    {
     "data": {
      "application/vnd.jupyter.widget-view+json": {
       "model_id": "",
       "version_major": 2,
       "version_minor": 0
      },
      "text/plain": [
       "FloatProgress(value=0.0, bar_style='info', description='Progress:', layout=Layout(height='25px', width='50%'),…"
      ]
     },
     "metadata": {},
     "output_type": "display_data"
    },
    {
     "name": "stdout",
     "output_type": "stream",
     "text": [
      "2698497 rows removed\n",
      "1658892 rows remaining\n",
      "+------+----------------+--------------------+-----+--------------------+--------------------+------------+\n",
      "|    id|         created|              author|score|               title|            selftext|num_comments|\n",
      "+------+----------------+--------------------+-----+--------------------+--------------------+------------+\n",
      "|1fceq2|2013-05-30 11:28|           u/rlh1271|   59|24m My girlfriend...|Weve been dating ...|         124|\n",
      "| cw6d6|2010-08-01 16:23|u/longdistance_throw|    4|What are some goo...|Hi friends youve ...|          12|\n",
      "|1j2am7|2013-07-25 18:54|         u/[deleted]|    2|24m My wife 23f C...|Hi Reddit Been co...|           7|\n",
      "|16k90k|2013-01-14 12:04|        u/RoboDinner|    1|Need gift advice ...|Ive been seeing a...|          13|\n",
      "| yvqn2|2012-08-26 20:45|   u/MaddenInGeneral|    1|21m Help dealing ...|I need some help ...|           6|\n",
      "| bn3ib|2010-04-06 07:21|         u/[deleted]|    2|Unhealthy relatio...|Note sorry but to...|          15|\n",
      "|14a0go|2012-12-04 14:00|         u/[deleted]|    1|28M Feel like thi...|Frist some backgr...|           6|\n",
      "| g2dzv|2011-03-11 21:36|        u/Freshman69|    9|I need relationsh...|Figured this woul...|          18|\n",
      "| f0gz5|2011-01-11 15:40|         u/[deleted]|    2| Am I being an idiot|15 year relations...|           9|\n",
      "|1eeykc|2013-05-15 18:10|        u/WolfChrist|    1|M20 confused abou...|So I met this rea...|           6|\n",
      "+------+----------------+--------------------+-----+--------------------+--------------------+------------+\n",
      "only showing top 10 rows"
     ]
    }
   ],
   "source": [
    "#It is necessary to clean the following:\n",
    "#deleted, removed, empty/null \n",
    "\n",
    "filtered_data = df_parquet.filter(df_parquet['selftext'] != \"deleted\")\n",
    "filtered_data = filtered_data.filter(filtered_data['selftext'] != \"removed\")\n",
    "filtered_data = filtered_data.filter(filtered_data['selftext'] != \"null\")\n",
    "filtered_data = filtered_data.filter(F.trim(F.col('selftext')) != \"\")\n",
    "\n",
    "#See how many rows remain\n",
    "print(df_parquet.count() - filtered_data.count(), \"rows removed\")\n",
    "print(filtered_data.count(), \"rows remaining\")\n",
    "\n",
    "#Visualize structure of values\n",
    "filtered_data.show(10)\n"
   ]
  },
  {
   "cell_type": "markdown",
   "metadata": {},
   "source": [
    "For some reason, null values aren't being captured with traditional methods, so I believe they are being deleted when I delete empty strings (as they appeared as empty strings in the csv and maybe the \"null\" is just a rendering thing here. \n",
    "\n",
    "Therefore, I'll test if they're indeed being deleted by comparing the df before and after cleaning"
   ]
  },
  {
   "cell_type": "code",
   "execution_count": 7,
   "metadata": {},
   "outputs": [
    {
     "data": {
      "application/vnd.jupyter.widget-view+json": {
       "model_id": "",
       "version_major": 2,
       "version_minor": 0
      },
      "text/plain": [
       "FloatProgress(value=0.0, bar_style='info', description='Progress:', layout=Layout(height='25px', width='50%'),…"
      ]
     },
     "metadata": {},
     "output_type": "display_data"
    }
   ],
   "source": [
    "null_test1 = df_parquet.filter(df_parquet['id'] == \"hthy4\")"
   ]
  },
  {
   "cell_type": "code",
   "execution_count": 8,
   "metadata": {},
   "outputs": [
    {
     "data": {
      "application/vnd.jupyter.widget-view+json": {
       "model_id": "",
       "version_major": 2,
       "version_minor": 0
      },
      "text/plain": [
       "FloatProgress(value=0.0, bar_style='info', description='Progress:', layout=Layout(height='25px', width='50%'),…"
      ]
     },
     "metadata": {},
     "output_type": "display_data"
    },
    {
     "name": "stdout",
     "output_type": "stream",
     "text": [
      "+-----+----------------+-----------+-----+--------------------+--------+------------+\n",
      "|   id|         created|     author|score|               title|selftext|num_comments|\n",
      "+-----+----------------+-----------+-----+--------------------+--------+------------+\n",
      "|hthy4|2011-06-07 00:22|u/[deleted]|    1|Right behind me o...|    null|           1|\n",
      "+-----+----------------+-----------+-----+--------------------+--------+------------+"
     ]
    }
   ],
   "source": [
    "null_test1.show()"
   ]
  },
  {
   "cell_type": "code",
   "execution_count": 9,
   "metadata": {},
   "outputs": [
    {
     "data": {
      "application/vnd.jupyter.widget-view+json": {
       "model_id": "",
       "version_major": 2,
       "version_minor": 0
      },
      "text/plain": [
       "FloatProgress(value=0.0, bar_style='info', description='Progress:', layout=Layout(height='25px', width='50%'),…"
      ]
     },
     "metadata": {},
     "output_type": "display_data"
    }
   ],
   "source": [
    "null_test2 = filtered_data.filter(filtered_data['id'] == \"hthy4\")"
   ]
  },
  {
   "cell_type": "code",
   "execution_count": 10,
   "metadata": {},
   "outputs": [
    {
     "data": {
      "application/vnd.jupyter.widget-view+json": {
       "model_id": "",
       "version_major": 2,
       "version_minor": 0
      },
      "text/plain": [
       "FloatProgress(value=0.0, bar_style='info', description='Progress:', layout=Layout(height='25px', width='50%'),…"
      ]
     },
     "metadata": {},
     "output_type": "display_data"
    },
    {
     "name": "stdout",
     "output_type": "stream",
     "text": [
      "+---+-------+------+-----+-----+--------+------------+\n",
      "| id|created|author|score|title|selftext|num_comments|\n",
      "+---+-------+------+-----+-----+--------+------------+\n",
      "+---+-------+------+-----+-----+--------+------------+"
     ]
    }
   ],
   "source": [
    "null_test2.show()"
   ]
  },
  {
   "cell_type": "markdown",
   "metadata": {},
   "source": [
    "I could observe that in fact, \"null\" values in the selftext are already deleted"
   ]
  },
  {
   "cell_type": "markdown",
   "metadata": {},
   "source": [
    "## Remove duplicates"
   ]
  },
  {
   "cell_type": "code",
   "execution_count": 11,
   "metadata": {
    "scrolled": true
   },
   "outputs": [
    {
     "data": {
      "application/vnd.jupyter.widget-view+json": {
       "model_id": "",
       "version_major": 2,
       "version_minor": 0
      },
      "text/plain": [
       "FloatProgress(value=0.0, bar_style='info', description='Progress:', layout=Layout(height='25px', width='50%'),…"
      ]
     },
     "metadata": {},
     "output_type": "display_data"
    },
    {
     "name": "stdout",
     "output_type": "stream",
     "text": [
      "12485 rows removed\n",
      "1646407 rows remaining"
     ]
    }
   ],
   "source": [
    "# Drop duplicates based on the \"selftext\" column only\n",
    "# https://spark.apache.org/docs/3.1.2/api/python/reference/api/pyspark.sql.DataFrame.dropDuplicates.html\n",
    "\n",
    "no_duplicates_df = filtered_data.dropDuplicates(['selftext'])\n",
    "\n",
    "#See how many rows remain\n",
    "print(filtered_data.count() - no_duplicates_df.count(), \"rows removed\")\n",
    "print(no_duplicates_df.count(), \"rows remaining\")"
   ]
  },
  {
   "cell_type": "code",
   "execution_count": 12,
   "metadata": {
    "scrolled": false
   },
   "outputs": [
    {
     "data": {
      "application/vnd.jupyter.widget-view+json": {
       "model_id": "",
       "version_major": 2,
       "version_minor": 0
      },
      "text/plain": [
       "FloatProgress(value=0.0, bar_style='info', description='Progress:', layout=Layout(height='25px', width='50%'),…"
      ]
     },
     "metadata": {},
     "output_type": "display_data"
    },
    {
     "name": "stdout",
     "output_type": "stream",
     "text": [
      "+-------+----------------+--------------------+-----+--------------------+--------------------+------------+\n",
      "|     id|         created|              author|score|               title|            selftext|num_comments|\n",
      "+-------+----------------+--------------------+-----+--------------------+--------------------+------------+\n",
      "|17zi1dd|2023-11-20 00:16|  u/ThrowRA867530910|    1|I 26M dont know w...|\t\tSo here is the ...|           3|\n",
      "| 26qmxz|2014-05-28 18:20|       u/wetwilly850|    1|20m Problems with...|\tI have a friend ...|           2|\n",
      "| bzvord|2019-06-12 14:40|    u/waitingonfedex|    0|boyfriend doesnt ...|\tMe 23 M and my p...|           0|\n",
      "|169r4ld|2023-09-04 07:49|u/throwRAsltwaterbae|    1|28F32M  why would...|                 ...|           1|\n",
      "|168k3h9|2023-09-02 20:37|u/throwRAuglyasal...|    1|28F32M  why would...|                 ...|           1|\n",
      "| 4a4dcd|2016-03-12 10:19|    u/kabinotski0919|    0|Help me 23m my gi...|                 ...|           1|\n",
      "| gglqn3|2020-05-09 14:20|u/throwawaaaaaaaa...|    3|Trigger warning I...|               Ye...|           2|\n",
      "| hb4dzu|2020-06-17 19:59|u/Apprehensive-Tr...|    2|Engaged but have ...|              Fir...|           9|\n",
      "|18ibr0i|2023-12-14 09:58|     u/throwRAaxelss|    1|35F 40M Thought t...|             The ...|           2|\n",
      "| 4a3jrd|2016-03-12 05:43|     u/kevindale0919|    0|23m need some adv...|           first ...|           0|\n",
      "| lsm8ux|2021-02-25 19:17|         u/Jhawk1471|    2|I dont know if my...|          We met ...|           7|\n",
      "|17g47bw|2023-10-25 08:00|u/throwRAcoastingits|    1|35F 37M Am I wast...|         I  start...|           1|\n",
      "| uvjaau|2022-05-22 15:20|      u/rickyricky43|    1|19M never been in...|         Ive just...|           2|\n",
      "|171jqf7|2023-10-06 13:21|    u/Secret-Cap6329|    1|I F20feel my bf i...|         My bf 25...|           1|\n",
      "| 4m7xu0|2016-06-02 11:17|          u/Telly986|    1|    Is he interested|         We work ...|           5|\n",
      "| 2oru7f|2014-12-09 11:37|     u/a_shadow_play|    5|Me 27m and my fia...|        TLDR My f...|          18|\n",
      "| 6pb9r7|2017-07-24 15:47|        u/CustomFont|    2|I 20M have been s...|       Im in coll...|           7|\n",
      "| tywyyi|2022-04-08 01:12|     u/TitanicGhandi|    2|My 19m girlfriend...|       My girlfri...|           7|\n",
      "|17ivla0|2023-10-28 23:51|     u/ThrowRA212155|    1|I 42M asked my fi...|       Weve been ...|           1|\n",
      "|108key7|2023-01-10 14:44|u/throwra18272717...|    0|18f 18m Does sex ...|      He had a bi...|          30|\n",
      "+-------+----------------+--------------------+-----+--------------------+--------------------+------------+\n",
      "only showing top 20 rows"
     ]
    }
   ],
   "source": [
    "no_duplicates_df.show()"
   ]
  },
  {
   "cell_type": "markdown",
   "metadata": {},
   "source": [
    "## Feature Engineering"
   ]
  },
  {
   "cell_type": "code",
   "execution_count": 32,
   "metadata": {
    "scrolled": false
   },
   "outputs": [
    {
     "data": {
      "application/vnd.jupyter.widget-view+json": {
       "model_id": "",
       "version_major": 2,
       "version_minor": 0
      },
      "text/plain": [
       "FloatProgress(value=0.0, bar_style='info', description='Progress:', layout=Layout(height='25px', width='50%'),…"
      ]
     },
     "metadata": {},
     "output_type": "display_data"
    }
   ],
   "source": [
    "# Combine title and self text into a single column\n",
    "df = no_duplicates_df.withColumn(\"entire_text\", F.lower(F.concat(F.col(\"title\"), F.col(\"selftext\"))))"
   ]
  },
  {
   "cell_type": "code",
   "execution_count": 33,
   "metadata": {
    "scrolled": true
   },
   "outputs": [
    {
     "data": {
      "application/vnd.jupyter.widget-view+json": {
       "model_id": "",
       "version_major": 2,
       "version_minor": 0
      },
      "text/plain": [
       "FloatProgress(value=0.0, bar_style='info', description='Progress:', layout=Layout(height='25px', width='50%'),…"
      ]
     },
     "metadata": {},
     "output_type": "display_data"
    },
    {
     "name": "stdout",
     "output_type": "stream",
     "text": [
      "+-----------------------------------------------------------------------------------------------------------------------------------------------------------------------------------------------------------------------------------------------------------------------------------------------------------------------------------------------------------------------------------------------------------------------------------------------------------------------------------------------------------------------------------------------------------------------------------------------------------------------------------------------------------------------------------------------------------------------------------------------------------------------------------------------------------------------------------------------------------------------------------------------------------------------------------------------------------------------------------------------------------------------------------------------------------------------------------------------------------------------------------------------------------------------------------------------------------------------------------------------------------------------------------------------------------------------------------------------------------------------------------------------------------------------------------------------------------------------------------------------------------------------------------------------------------------------------------------------------------------------------------------------------------------------------------------------------------------------------------------------------------------------------------------------------------------------------------------------------------------------------------------------------------------------------------------------------------------------------------------------------------------------------------------------------------------------------------------------------------------------------------------------------------------------------------------------------------------------------------------------------------------------------------------------------------------------------------------------------------------------------------------------------------------------------------------------------------------------------------------------------------------------------------------------------------------------------------------------------------------------------------------------------------------------------------------------------------------------------------------------------------------------------------------------------------------------------------------------------------------------------------------------------------------------------------------------------------------------------------------------------------------------------------------------------------------------------------------------------------------------------------------------------------------------------------------------------------------------------------------------------------------------------------------------------------------------------------------------------------------------------------------------------------------------------------------------------------------------------------------------------------------------------------------------------------------------------------------------------------------------------------------------------------------------------------------------------------------------------------------------------------------------------------------------------------------------------------------------------------------------------------------------------------------------------------------------------------------------------------------------------------------------------------------------------------------------------------------------------------------------------------------------------------------------------------------------------------------------------------------------------------------------------------------------------------------------------------------------------------------------------------------------------------------------------------------------------------------------------------------------------------------------------------------------------------------------------------------------------------------------------------------------------------------------------------------------------------------------------------------------------------------------------------------------------------------------------------------------------------------------------------------------------------------------------------------------------------------------------------------------------------------------------------------------------------------------------------------------------------------------------------------------------------------------------------------------------------------------------------------------------------------------------------------------------------------------------------------------------------------------------------------------------------------------------------------------------------------------------------------------------------------------------------------------------------------------------------------------------------------------------------------------------------------------------------------------------------------------------------------------------------------------------------------------------------------------------------------------------------------------------------------------------------------------------------------------------------------------------------------------------------------------------------------------------------------------------------------------------------------------------------------------------+\n",
      "|entire_text                                                                                                                                                                                                                                                                                                                                                                                                                                                                                                                                                                                                                                                                                                                                                                                                                                                                                                                                                                                                                                                                                                                                                                                                                                                                                                                                                                                                                                                                                                                                                                                                                                                                                                                                                                                                                                                                                                                                                                                                                                                                                                                                                                                                                                                                                                                                                                                                                                                                                                                                                                                                                                                                                                                                                                                                                                                                                                                                                                                                                                                                                                                                                                                                                                                                                                                                                                                                                                                                                                                                                                                                                                                                                                                                                                                                                                                                                                                                                                                                                                                                                                                                                                                                                                                                                                                                                                                                                                                                                                                                                                                                                                                                                                                                                                                                                                                                                                                                                                                                                                                                                                                                                                                                                                                                                                                                                                                                                                                                                                                                                                                                                                                                                                                                                                                                                                                                                                                                                                                                                                                                                                                                          |\n",
      "+-----------------------------------------------------------------------------------------------------------------------------------------------------------------------------------------------------------------------------------------------------------------------------------------------------------------------------------------------------------------------------------------------------------------------------------------------------------------------------------------------------------------------------------------------------------------------------------------------------------------------------------------------------------------------------------------------------------------------------------------------------------------------------------------------------------------------------------------------------------------------------------------------------------------------------------------------------------------------------------------------------------------------------------------------------------------------------------------------------------------------------------------------------------------------------------------------------------------------------------------------------------------------------------------------------------------------------------------------------------------------------------------------------------------------------------------------------------------------------------------------------------------------------------------------------------------------------------------------------------------------------------------------------------------------------------------------------------------------------------------------------------------------------------------------------------------------------------------------------------------------------------------------------------------------------------------------------------------------------------------------------------------------------------------------------------------------------------------------------------------------------------------------------------------------------------------------------------------------------------------------------------------------------------------------------------------------------------------------------------------------------------------------------------------------------------------------------------------------------------------------------------------------------------------------------------------------------------------------------------------------------------------------------------------------------------------------------------------------------------------------------------------------------------------------------------------------------------------------------------------------------------------------------------------------------------------------------------------------------------------------------------------------------------------------------------------------------------------------------------------------------------------------------------------------------------------------------------------------------------------------------------------------------------------------------------------------------------------------------------------------------------------------------------------------------------------------------------------------------------------------------------------------------------------------------------------------------------------------------------------------------------------------------------------------------------------------------------------------------------------------------------------------------------------------------------------------------------------------------------------------------------------------------------------------------------------------------------------------------------------------------------------------------------------------------------------------------------------------------------------------------------------------------------------------------------------------------------------------------------------------------------------------------------------------------------------------------------------------------------------------------------------------------------------------------------------------------------------------------------------------------------------------------------------------------------------------------------------------------------------------------------------------------------------------------------------------------------------------------------------------------------------------------------------------------------------------------------------------------------------------------------------------------------------------------------------------------------------------------------------------------------------------------------------------------------------------------------------------------------------------------------------------------------------------------------------------------------------------------------------------------------------------------------------------------------------------------------------------------------------------------------------------------------------------------------------------------------------------------------------------------------------------------------------------------------------------------------------------------------------------------------------------------------------------------------------------------------------------------------------------------------------------------------------------------------------------------------------------------------------------------------------------------------------------------------------------------------------------------------------------------------------------------------------------------------------------------------------------------------------------------------------------------+\n",
      "|i 26m dont know what my 26f friend claire expects from our friendship does she expect more than a platonic relationship\t\tso here is the situation i 24m am working on a project with my friendcoworker 24f  claire we have been working together on this project for the last 5 months together over the last couple weeks we have become much closer claire had scary life event come up and ive tried to support her the best i can weve both supported each other as much as possible especially because we have to cover for each other    \t\ti really like claire as a friend she is funny outgoing and confident the issue is i thought she was gay and i have just been treating her as i would any of my guy friends but im wondering if shes bisexual and actually might be interested in me     here is my evidence that she might be more sexually interested in me   1 she texts me way more often than any of my guy friends do especially when she knows ive had a rough day   2 shes super friendly with me in person the other day i was practicing a physical maneuver literally 100 platonic on her and she says oh im ticklish and starts giggling she had me keep going though i dont know if thats because its her personality being a welcoming person and willing to help me out or if shes interested in me   3 shes made comments about my biceps being big yes im rolling my eyes too   4 she also goes out of her way to spend more time with me walking to and from the parking lot  staying later to work on other projects than i feel that my other guy friends would   5 she hasnt once mentioned a significant other  here is my evidence she just likes me just as a friend   1 she texts other male coworkers frequently too   2 other than these physical maneuvers practice for work i dont have any physical contact with her   3 shes an overall very friendly person and can get along with most anyone   i feel like im getting mixed signals from her i also dont know her sexual orientation to begin with  she hasnt specifically brought it up with me i also would never ask her id want her to bring it up first i also wouldnt want to ruin the friendship that we have by asking her if she expects more tbh i like where our relationship is at now but i dont know if she expects more i would appreciate an unbiased opinion do you think claire expects more than a platonic friendship would she stop being my friend if i didnt want to go further than a platonic relationship                                                                                                                                                                                                                                                                                                                                                                                                                                                                                                                                                                                                                                                                                                                                                                                                                                                                                                                                                                                                                                                                                                                                                                                                                                                                                                                                                                                                                                                                                                                                                                                                                                                                                                                                                                                                                                                                                                                                                                                                                                                                                                                                                                                                                                                                                                                                                                                                                                                                                                                                                                                                                                                                                                                                                                                                                                                                                                                                                                                                                                                                                                                                                                                                                                                                                                                                                                                                                                                                                                                                                                                                                |\n",
      "|20m problems with my bestfriend 20m and i\ti have a friend that i have known for 8 years now we have been best buds since 6th grade and now we are both away from home going to school and working we were both weirdos and deviants back in middlehigh school and now that we are away from home we have grown up quite a bit i know that at this point in our lives he is more mature than i am and that is something that i am okay with i wasnt always bothered by his gogetter attitude but recently i have been feeling bad about myself and his constant bragging has not been helping that situation i swear he hardly ever initiates hanging out with me and he lives next door to me and when he does decide to hang out with me all he does is talk about himself and things in his life   \the always seems to make digs at me about things in my life such as pointing out every time i am wrong god forbid i say that i like apple hell be the first one to tell me that microsoft is way better even if its something i am positive of he just gets off on proving me wrong i have never been one to cut people down which is why i am questioning my friendship with him now his constant correcting and disregarding everything i say has taken its toll on me he will come talk to me for hours about his job and the girls he likes and if i start talking he just brings it back to himself  \ta lot of this tension started back last year there was a girl that i really liked and i had invited her over to his house to come drink with our group of friends and party well that night my friend and that girl kissed and he blamed it on alcohol and told me he felt terrible since then i have caught him talking to many of the girls i was talking to and he has tried to hit on many of them he completely disregards everyones feelings but his own and it makes me feel bad i dont trust him anymore and its making it hard to want to stay his friend  \ton top of that the final straw was last weekend it was my 20th birthday and i was hoping to do something with my friends well my best friend just recently got a girlfriend and she was leaving the state on sunday so he was spending the day with her on my birthday that was just fine since i was going fishing with my dad but my friend had the nerve to not even knock on my door and say happy birthday as he walked by it on the way to the car to go spend the day with his girl he spent the day with the girl and didnt even text me happy birthday for like 5 hours i know that sounds childish its just the point for his birthday i spent 45 on the mass effect trilogy and gave it to him he got me a 2 bruno mars shirt and a 9 football he got on ebay i loved these gifts and thought they were awesome but it really bothers me that he didnt even see me on my birthday he was the one pushing me to do something that night for my birthday so i cut fishing with my dad a little short to hang out with him he finally texted me around 9 telling me they were going to eat dinner and come over then texted me at 1030 letting me know they were playing cards and would leave after that at that point i was so pissed about cutting fishing short with my dad i told him that i was going to bed he called me and asked me if i was going to bed and i said yes so we got off the phone and then that asshole walked right by my apartment again with all my lights on and didnt even knock to see if i might be up didnt text didnt call all he cared about was trying to get laid which he didnt  \ti just dont know what to think sometimes i feel like im the one being irrational but he has just been making me feel so down recently he clearly only cares about himself and i just cant be around that any more hes been my only friend for so long and losing him would suck but he is making me want to punch him every time i see him  what are your thoughts                                                                                                                                                                                                                                                                                                                                                                                                                                                                                                                                                                                                                                                                                                                                                                                                                                                                                                                                                                                                                                                                                                                                                                                                                                                                                                                                                                                                                                                                                                                                                                                                                                                                                                                                                                                                                                                                                                                                                                                                                                                                                                                                                               |\n",
      "|boyfriend doesnt include me in decisionmaking and i feel like we are growing apart\tme 23 m and my partner 25 m have been dating for a little over two years  i am going to try and keep this shortish as i have a class assignment due in  a few hours but i take my mind off of my relationship  lately ive been feeling frustrated with my boyfriend for little things that dont seem significant but ive been letting them build up and havent made my feelings clear  im a timid person so making my feelings known often feels like im making a mountain out of a molehill and i often just stay silent as to not upset people  sometimes it feels like if i say my feelings are hurt and why it feels like he gets really upset and shuts down to where its hard to talk about the root of the problem  i feel like i can be oversensitive but i still want my feelings heard and respected  for example we were on our first date weve had in a while last friday night and for some reason he seemed distant and upset for the first part of it  when we got to the restaurant he bolts out of the car and walks in without even waiting for me to follow  im walking in a few feet behind him and rather than look behind him and hold the door for me he just lets it slam in my face  this drives me crazy as ive told him many times before that it hurts my feelings when he doesnt take the minimal effort of holding the door for me  it was such a small event but has been eating away at me that he would just let the door close in my face   \tlast april i started a 15 month long program at a massage school which has been a challenge in and of itself  as the workload started to get serious i noticed my boyfriend would act resentful if i chose to do schoolwork instead of hangout with him  ive explained time and time again that i made a 12000 dollar investment in my career and i plan on making the best use of the debt ive put myself in  i get that its hard for him  i would feel upset if my partner had to spend a lot of time doing homework if i was in his shoes  at the same time i would want to support my partner and help him get through school rather than make him feel guilty for doing his work  its just really frustrating because my boyfriend will have episodes of being really distant and unaffectionate and when i confront him about it he says hes just sad that we dont spend time together  i dont have much of a social life and spend 100 of my nonhomework time with the boyfriend if he isnt at work  \tso back to the little things that have been building up  for one thing ive had the same class schedule for the entirety of the program  i have class tuesday through thursday every week  i only have two more months of school and the schedule has changed slightly with a day off here and there to make up for us students having to also work an internship at the schools clinic  my boyfriend constantly asks me all the time if i have class on monday or friday even though ive never had class on those days  i should also add that we live together and yet he cant remember my schedule  another constant is that i have only have a couple of hours between my job 9am4pm monfriday and class 6pm10pm tuesthurs on school days and im usually exhausted  ill come home and take a nap and then go straight to school  even though he knows i only have a small window of time on these days he will often have a friend over to smoke during that time and i feel awkward because i just want to recharge and spend time with him before class but instead hes puffing it out with a friend while i hide in the bedroom with my schoolstuff so that it doesnt smell like weed at school   \the is often telling me he has made plans with x friend and asks what im doing that day  it hurts my feelings when im not part of the decisionmaking and im often too loaded down with homework to do the things he plans  a lot of his plans feel like they dont include me  for example the other week he tells me him and x friend are going to kings island on wednesday and asks if i have class  ive been having every other wednesday off from school for a month or so so its reasonable that he didnt know if i would be busy or not  at this time though i knew i would start having class every wednesday once again as the school admin had to change a few things in the schedule  i told him i wasnt sure but that i would absolutely want to go if i didnt have class  turns out i did have class so its just him and his friend going  i told him i was sad i wouldnt get to go with him but didnt tell him he shouldnt go  im honestly really upset that he didnt start out the planning process by saying “hey i want to go to kings island what days would you be able to go” so that we could actually plan on going together  instead he tells me hes already made the plans and its on me to cancel work or school to be able to join them  he knows that i practically always have saturday and sunday off but couldnt just plan on doing this trip during a weekend or giving me enough time to request off from work or make plans to miss school taking time off of school leads to massive amounts of makeup work in order to make missing class not worth it to students  this type of thing  happens often  it just feels like he isnt considering me in his plans   \ttoday he is having fun at kings island and i didnt even get to see much of him yesterday as he had a friend over during my between work and school time and then was fast asleep when i got home from class  and despite all of this he will probably whine to me about how he hasnt seen me this week  it just feels like when we have time together we dont fully appreciate it like the date we had on friday where he acted like he didnt want to be with me at the restaurant  i just really wanted to get all of this off of my chest so i can put my feelings down on the keyboard before talking to him about it soon  anyway back to my schoolwork|\n",
      "+-----------------------------------------------------------------------------------------------------------------------------------------------------------------------------------------------------------------------------------------------------------------------------------------------------------------------------------------------------------------------------------------------------------------------------------------------------------------------------------------------------------------------------------------------------------------------------------------------------------------------------------------------------------------------------------------------------------------------------------------------------------------------------------------------------------------------------------------------------------------------------------------------------------------------------------------------------------------------------------------------------------------------------------------------------------------------------------------------------------------------------------------------------------------------------------------------------------------------------------------------------------------------------------------------------------------------------------------------------------------------------------------------------------------------------------------------------------------------------------------------------------------------------------------------------------------------------------------------------------------------------------------------------------------------------------------------------------------------------------------------------------------------------------------------------------------------------------------------------------------------------------------------------------------------------------------------------------------------------------------------------------------------------------------------------------------------------------------------------------------------------------------------------------------------------------------------------------------------------------------------------------------------------------------------------------------------------------------------------------------------------------------------------------------------------------------------------------------------------------------------------------------------------------------------------------------------------------------------------------------------------------------------------------------------------------------------------------------------------------------------------------------------------------------------------------------------------------------------------------------------------------------------------------------------------------------------------------------------------------------------------------------------------------------------------------------------------------------------------------------------------------------------------------------------------------------------------------------------------------------------------------------------------------------------------------------------------------------------------------------------------------------------------------------------------------------------------------------------------------------------------------------------------------------------------------------------------------------------------------------------------------------------------------------------------------------------------------------------------------------------------------------------------------------------------------------------------------------------------------------------------------------------------------------------------------------------------------------------------------------------------------------------------------------------------------------------------------------------------------------------------------------------------------------------------------------------------------------------------------------------------------------------------------------------------------------------------------------------------------------------------------------------------------------------------------------------------------------------------------------------------------------------------------------------------------------------------------------------------------------------------------------------------------------------------------------------------------------------------------------------------------------------------------------------------------------------------------------------------------------------------------------------------------------------------------------------------------------------------------------------------------------------------------------------------------------------------------------------------------------------------------------------------------------------------------------------------------------------------------------------------------------------------------------------------------------------------------------------------------------------------------------------------------------------------------------------------------------------------------------------------------------------------------------------------------------------------------------------------------------------------------------------------------------------------------------------------------------------------------------------------------------------------------------------------------------------------------------------------------------------------------------------------------------------------------------------------------------------------------------------------------------------------------------------------------------------------------------------------------------------------------------------------+\n",
      "only showing top 3 rows"
     ]
    }
   ],
   "source": [
    "#I asked ChatGPT \"How can I do this [df.select(\"title\", \"selftext\", \"entire_text\").show(3)] \n",
    "#so it does not truncate the text?\"\" so I could see it complete and ensure the concatenation worked \n",
    "\n",
    "df.select(\"entire_text\").show(3, truncate=False)"
   ]
  },
  {
   "cell_type": "code",
   "execution_count": 35,
   "metadata": {},
   "outputs": [
    {
     "data": {
      "application/vnd.jupyter.widget-view+json": {
       "model_id": "",
       "version_major": 2,
       "version_minor": 0
      },
      "text/plain": [
       "FloatProgress(value=0.0, bar_style='info', description='Progress:', layout=Layout(height='25px', width='50%'),…"
      ]
     },
     "metadata": {},
     "output_type": "display_data"
    }
   ],
   "source": [
    "#Create column that contains only the year\n",
    "#https://spark.apache.org/docs/latest/api/python/reference/pyspark.sql/api/pyspark.sql.functions.year.html\n",
    "\n",
    "df = df.withColumn(\"year\", F.year(F.col(\"created\")))"
   ]
  },
  {
   "cell_type": "code",
   "execution_count": 36,
   "metadata": {},
   "outputs": [
    {
     "data": {
      "application/vnd.jupyter.widget-view+json": {
       "model_id": "",
       "version_major": 2,
       "version_minor": 0
      },
      "text/plain": [
       "FloatProgress(value=0.0, bar_style='info', description='Progress:', layout=Layout(height='25px', width='50%'),…"
      ]
     },
     "metadata": {},
     "output_type": "display_data"
    },
    {
     "name": "stdout",
     "output_type": "stream",
     "text": [
      "+-------+----------------+--------------------+-----+--------------------+--------------------+------------+--------------------+----+\n",
      "|     id|         created|              author|score|               title|            selftext|num_comments|         entire_text|year|\n",
      "+-------+----------------+--------------------+-----+--------------------+--------------------+------------+--------------------+----+\n",
      "|17zi1dd|2023-11-20 00:16|  u/ThrowRA867530910|    1|I 26M dont know w...|\t\tSo here is the ...|           3|i 26m dont know w...|2023|\n",
      "| 26qmxz|2014-05-28 18:20|       u/wetwilly850|    1|20m Problems with...|\tI have a friend ...|           2|20m problems with...|2014|\n",
      "| bzvord|2019-06-12 14:40|    u/waitingonfedex|    0|boyfriend doesnt ...|\tMe 23 M and my p...|           0|boyfriend doesnt ...|2019|\n",
      "|169r4ld|2023-09-04 07:49|u/throwRAsltwaterbae|    1|28F32M  why would...|                 ...|           1|28f32m  why would...|2023|\n",
      "|168k3h9|2023-09-02 20:37|u/throwRAuglyasal...|    1|28F32M  why would...|                 ...|           1|28f32m  why would...|2023|\n",
      "| 4a4dcd|2016-03-12 10:19|    u/kabinotski0919|    0|Help me 23m my gi...|                 ...|           1|help me 23m my gi...|2016|\n",
      "| gglqn3|2020-05-09 14:20|u/throwawaaaaaaaa...|    3|Trigger warning I...|               Ye...|           2|trigger warning i...|2020|\n",
      "| hb4dzu|2020-06-17 19:59|u/Apprehensive-Tr...|    2|Engaged but have ...|              Fir...|           9|engaged but have ...|2020|\n",
      "|18h6q83|2023-12-12 20:53| u/throwRAsurfsummee|    1|35F 40M Thought t...|             The ...|           1|35f 40m thought t...|2023|\n",
      "| 4a3jrd|2016-03-12 05:43|     u/kevindale0919|    0|23m need some adv...|           first ...|           0|23m need some adv...|2016|\n",
      "| lsm8ux|2021-02-25 19:17|         u/Jhawk1471|    2|I dont know if my...|          We met ...|           7|i dont know if my...|2021|\n",
      "|17g47bw|2023-10-25 08:00|u/throwRAcoastingits|    1|35F 37M Am I wast...|         I  start...|           1|35f 37m am i wast...|2023|\n",
      "| uvjaau|2022-05-22 15:20|      u/rickyricky43|    1|19M never been in...|         Ive just...|           2|19m never been in...|2022|\n",
      "|171jqf7|2023-10-06 13:21|    u/Secret-Cap6329|    1|I F20feel my bf i...|         My bf 25...|           1|i f20feel my bf i...|2023|\n",
      "| 4m7xu0|2016-06-02 11:17|          u/Telly986|    1|    Is he interested|         We work ...|           5|is he interested ...|2016|\n",
      "| 2oru7f|2014-12-09 11:37|     u/a_shadow_play|    5|Me 27m and my fia...|        TLDR My f...|          18|me 27m and my fia...|2014|\n",
      "| 6pb9r7|2017-07-24 15:47|        u/CustomFont|    2|I 20M have been s...|       Im in coll...|           7|i 20m have been s...|2017|\n",
      "| tywyyi|2022-04-08 01:12|     u/TitanicGhandi|    2|My 19m girlfriend...|       My girlfri...|           7|my 19m girlfriend...|2022|\n",
      "|17ivla0|2023-10-28 23:51|     u/ThrowRA212155|    1|I 42M asked my fi...|       Weve been ...|           1|i 42m asked my fi...|2023|\n",
      "|108key7|2023-01-10 14:44|u/throwra18272717...|    0|18f 18m Does sex ...|      He had a bi...|          30|18f 18m does sex ...|2023|\n",
      "+-------+----------------+--------------------+-----+--------------------+--------------------+------------+--------------------+----+\n",
      "only showing top 20 rows"
     ]
    }
   ],
   "source": [
    "df.show()"
   ]
  },
  {
   "cell_type": "markdown",
   "metadata": {},
   "source": [
    "## Upload prepared data into S3 "
   ]
  },
  {
   "cell_type": "code",
   "execution_count": 64,
   "metadata": {},
   "outputs": [
    {
     "data": {
      "application/vnd.jupyter.widget-view+json": {
       "model_id": "",
       "version_major": 2,
       "version_minor": 0
      },
      "text/plain": [
       "FloatProgress(value=0.0, bar_style='info', description='Progress:', layout=Layout(height='25px', width='50%'),…"
      ]
     },
     "metadata": {},
     "output_type": "display_data"
    }
   ],
   "source": [
    "#Write cleaned data into new files\n",
    "df_repartitioned = df.repartition(10)\n",
    "df_repartitioned.write.parquet(\"s3://finalproject-nat-s3/prepared-data\", mode = 'overwrite')"
   ]
  }
 ],
 "metadata": {
  "kernelspec": {
   "display_name": "PySpark",
   "language": "",
   "name": "pysparkkernel"
  },
  "language_info": {
   "codemirror_mode": {
    "name": "python",
    "version": 3
   },
   "mimetype": "text/x-python",
   "name": "pyspark",
   "pygments_lexer": "python3"
  }
 },
 "nbformat": 4,
 "nbformat_minor": 4
}
