{
 "cells": [
  {
   "cell_type": "markdown",
   "metadata": {},
   "source": [
    "This notebook takes the vectors from the topic model distribution and classifies each document into a topic."
   ]
  },
  {
   "cell_type": "code",
   "execution_count": 1,
   "metadata": {},
   "outputs": [
    {
     "data": {
      "text/html": [
       "Current session configs: <tt>{'conf': {'spark.jars.packages': 'com.johnsnowlabs.nlp:spark-nlp_2.12:4.3.1', 'spark.pyspark.python': 'python3', 'spark.pyspark.virtualenv.enabled': 'true', 'spark.pyspark.virtualenv.type': 'native', 'spark.pyspark.virtualenv.bin.path': '/usr/bin/virtualenv'}, 'proxyUser': 'jovyan', 'kind': 'pyspark'}</tt><br>"
      ],
      "text/plain": [
       "<IPython.core.display.HTML object>"
      ]
     },
     "metadata": {},
     "output_type": "display_data"
    },
    {
     "data": {
      "text/html": [
       "No active sessions."
      ],
      "text/plain": [
       "<IPython.core.display.HTML object>"
      ]
     },
     "metadata": {},
     "output_type": "display_data"
    }
   ],
   "source": [
    "%%configure -f\n",
    "{\n",
    "    \"conf\": {\n",
    "        \"spark.jars.packages\": \"com.johnsnowlabs.nlp:spark-nlp_2.12:4.3.1\",\n",
    "        \"spark.pyspark.python\": \"python3\",\n",
    "        \"spark.pyspark.virtualenv.enabled\": \"true\",\n",
    "        \"spark.pyspark.virtualenv.type\": \"native\",\n",
    "        \"spark.pyspark.virtualenv.bin.path\": \"/usr/bin/virtualenv\"\n",
    "\n",
    "    }\n",
    "}"
   ]
  },
  {
   "cell_type": "code",
   "execution_count": 2,
   "metadata": {},
   "outputs": [
    {
     "name": "stdout",
     "output_type": "stream",
     "text": [
      "Starting Spark application\n"
     ]
    },
    {
     "data": {
      "text/html": [
       "<table>\n",
       "<tr><th>ID</th><th>YARN Application ID</th><th>Kind</th><th>State</th><th>Spark UI</th><th>Driver log</th><th>Current session?</th></tr><tr><td>2</td><td>application_1716430456629_0004</td><td>pyspark</td><td>idle</td><td><a target=\"_blank\" href=\"http://ip-172-31-40-157.ec2.internal:20888/proxy/application_1716430456629_0004/\">Link</a></td><td><a target=\"_blank\" href=\"http://ip-172-31-42-85.ec2.internal:8042/node/containerlogs/container_1716430456629_0004_01_000001/livy\">Link</a></td><td>✔</td></tr></table>"
      ],
      "text/plain": [
       "<IPython.core.display.HTML object>"
      ]
     },
     "metadata": {},
     "output_type": "display_data"
    },
    {
     "data": {
      "application/vnd.jupyter.widget-view+json": {
       "model_id": "",
       "version_major": 2,
       "version_minor": 0
      },
      "text/plain": [
       "FloatProgress(value=0.0, bar_style='info', description='Progress:', layout=Layout(height='25px', width='50%'),…"
      ]
     },
     "metadata": {},
     "output_type": "display_data"
    },
    {
     "name": "stdout",
     "output_type": "stream",
     "text": [
      "SparkSession available as 'spark'.\n"
     ]
    },
    {
     "data": {
      "application/vnd.jupyter.widget-view+json": {
       "model_id": "",
       "version_major": 2,
       "version_minor": 0
      },
      "text/plain": [
       "FloatProgress(value=0.0, bar_style='info', description='Progress:', layout=Layout(height='25px', width='50%'),…"
      ]
     },
     "metadata": {},
     "output_type": "display_data"
    },
    {
     "name": "stdout",
     "output_type": "stream",
     "text": [
      "Collecting spark-nlp\n",
      "  Downloading https://files.pythonhosted.org/packages/13/96/a580e098e00905ef715253fc85589db00ca5bfa324deb5aa7cb4fc069004/spark_nlp-5.3.3-py2.py3-none-any.whl (568kB)\n",
      "Installing collected packages: spark-nlp\n",
      "Successfully installed spark-nlp-5.3.3"
     ]
    }
   ],
   "source": [
    "sc.install_pypi_package('spark-nlp',\"https://pypi.org/simple\")"
   ]
  },
  {
   "cell_type": "code",
   "execution_count": 3,
   "metadata": {},
   "outputs": [
    {
     "data": {
      "application/vnd.jupyter.widget-view+json": {
       "model_id": "",
       "version_major": 2,
       "version_minor": 0
      },
      "text/plain": [
       "FloatProgress(value=0.0, bar_style='info', description='Progress:', layout=Layout(height='25px', width='50%'),…"
      ]
     },
     "metadata": {},
     "output_type": "display_data"
    }
   ],
   "source": [
    "df = spark.read.parquet(\"s3://finalproject-nat-s3/data_withtopics/*.parquet\")"
   ]
  },
  {
   "cell_type": "code",
   "execution_count": 4,
   "metadata": {},
   "outputs": [
    {
     "data": {
      "application/vnd.jupyter.widget-view+json": {
       "model_id": "",
       "version_major": 2,
       "version_minor": 0
      },
      "text/plain": [
       "FloatProgress(value=0.0, bar_style='info', description='Progress:', layout=Layout(height='25px', width='50%'),…"
      ]
     },
     "metadata": {},
     "output_type": "display_data"
    },
    {
     "name": "stdout",
     "output_type": "stream",
     "text": [
      "Total Columns: 15\n",
      "Total Rows: 1646407\n",
      "root\n",
      " |-- id: string (nullable = true)\n",
      " |-- created: string (nullable = true)\n",
      " |-- author: string (nullable = true)\n",
      " |-- score: string (nullable = true)\n",
      " |-- title: string (nullable = true)\n",
      " |-- selftext: string (nullable = true)\n",
      " |-- num_comments: string (nullable = true)\n",
      " |-- entire_text: string (nullable = true)\n",
      " |-- year: integer (nullable = true)\n",
      " |-- person_1: string (nullable = true)\n",
      " |-- person_2: string (nullable = true)\n",
      " |-- finished_tokens: array (nullable = true)\n",
      " |    |-- element: string (containsNull = true)\n",
      " |-- terms_frequencies: vector (nullable = true)\n",
      " |-- tf_idf_features: vector (nullable = true)\n",
      " |-- topicDistribution: vector (nullable = true)"
     ]
    }
   ],
   "source": [
    "#Recall structure of the dataframe \n",
    "print('Total Columns: %d' % len(df.dtypes))\n",
    "print('Total Rows: %d' % df.count())\n",
    "df.printSchema()"
   ]
  },
  {
   "cell_type": "code",
   "execution_count": 5,
   "metadata": {},
   "outputs": [
    {
     "data": {
      "application/vnd.jupyter.widget-view+json": {
       "model_id": "",
       "version_major": 2,
       "version_minor": 0
      },
      "text/plain": [
       "FloatProgress(value=0.0, bar_style='info', description='Progress:', layout=Layout(height='25px', width='50%'),…"
      ]
     },
     "metadata": {},
     "output_type": "display_data"
    },
    {
     "name": "stdout",
     "output_type": "stream",
     "text": [
      "+-------+----------------+--------------------+-----+--------------------+--------------------+------------+--------------------+----+--------+--------+--------------------+--------------------+--------------------+--------------------+\n",
      "|     id|         created|              author|score|               title|            selftext|num_comments|         entire_text|year|person_1|person_2|     finished_tokens|   terms_frequencies|     tf_idf_features|   topicDistribution|\n",
      "+-------+----------------+--------------------+-----+--------------------+--------------------+------------+--------------------+----+--------+--------+--------------------+--------------------+--------------------+--------------------+\n",
      "| nao0ib|2021-05-12 07:56|   u/Colonel_Chronic|    3|I 26M love her 25...|Sorry for long po...|           7|i 26m love her 25...|2021|        |        |[love, despise, f...|(1329,[0,1,2,3,5,...|(1329,[0,1,2,3,5,...|[1.63186347610851...|\n",
      "| w0i2vh|2022-07-16 09:35|u/Educational_Fox...|    1|            Opinions|Me and my Babys M...|           7|opinionsme and my...|2022|        |        |[opinionsme, and,...|(1329,[1,3,7,8,15...|(1329,[1,3,7,8,15...|[0.00149594456055...|\n",
      "|16yar9x|2023-10-02 17:33|       u/Top_Air6801|    1|I 27F need advice...| This going to be...|           1|i 27f need advice...|2023|        |        |[need, advice, ma...|(1329,[0,1,2,3,4,...|(1329,[0,1,2,3,4,...|[1.26841891343815...|\n",
      "| ncw4i1|2021-05-15 05:47|     u/Throwawayyxci|    1|After years of ab...|This is very long...|           9|after years of ab...|2021|      32|      40|[year, abuse, and...|(1329,[0,1,2,3,4,...|(1329,[0,1,2,3,4,...|[6.30262899624117...|\n",
      "| b76ws3|2019-03-29 23:08|        u/Dilberting|    4|GF cheated I read...|My GF cheatd on m...|          15|gf cheated i read...|2019|        |        |[gf, cheat, read,...|(1329,[2,8,11,14,...|(1329,[2,8,11,14,...|[0.00106706109668...|\n",
      "| ibkt3u|2020-08-17 14:17|      u/Fiestyfemale|    3|Guy ive just met ...|TLDR guy ive know...|           7|guy ive just met ...|2020|        |        |[guy, just, meet,...|(1329,[0,1,2,3,4,...|(1329,[0,1,2,3,4,...|[1.68744398820325...|\n",
      "| b9czsw|2019-04-04 08:54|     u/ThePlaidHattr|    1|35fWould it bothe...|sorryitslong Appa...|           8|35fwould it bothe...|2019|        |        |[fwould, bother, ...|(1329,[0,5,7,8,10...|(1329,[0,5,7,8,10...|[5.95615136804243...|\n",
      "|14tod3t|2023-07-07 19:23|      u/msbonnie0414|    4|I think a mutual ...|Ive been having a...|           6|i think a mutual ...|2023|        |        |[think, a, mutual...|(1329,[0,1,2,3,4,...|(1329,[0,1,2,3,4,...|[2.10139403907639...|\n",
      "| g1iob4|2020-04-14 20:48|       u/steak_blues|    2|GF 27 buzz drivin...|So Ive started re...|           3|gf 27 buzz drivin...|2020|        |        |[gf, buzz, drive,...|(1329,[0,1,2,3,4,...|(1329,[0,1,2,3,4,...|[2.10921789174381...|\n",
      "| jw3zj8|2020-11-17 17:14| u/Unicorn_Anonymous|    1|How do I tell my ...|Okay so this is n...|           3|how do i tell my ...|2020|        |        |[how, tell, frien...|(1329,[0,2,3,6,7,...|(1329,[0,2,3,6,7,...|[5.03040269292835...|\n",
      "+-------+----------------+--------------------+-----+--------------------+--------------------+------------+--------------------+----+--------+--------+--------------------+--------------------+--------------------+--------------------+\n",
      "only showing top 10 rows"
     ]
    }
   ],
   "source": [
    "#Recall structure of the dataframe \n",
    "df.show(10)"
   ]
  },
  {
   "cell_type": "markdown",
   "metadata": {},
   "source": [
    "## Categorize Documents into topics"
   ]
  },
  {
   "cell_type": "code",
   "execution_count": 6,
   "metadata": {},
   "outputs": [
    {
     "data": {
      "application/vnd.jupyter.widget-view+json": {
       "model_id": "",
       "version_major": 2,
       "version_minor": 0
      },
      "text/plain": [
       "FloatProgress(value=0.0, bar_style='info', description='Progress:', layout=Layout(height='25px', width='50%'),…"
      ]
     },
     "metadata": {},
     "output_type": "display_data"
    }
   ],
   "source": [
    "import pyspark.sql.functions as F"
   ]
  },
  {
   "cell_type": "code",
   "execution_count": 7,
   "metadata": {
    "scrolled": true
   },
   "outputs": [
    {
     "data": {
      "application/vnd.jupyter.widget-view+json": {
       "model_id": "",
       "version_major": 2,
       "version_minor": 0
      },
      "text/plain": [
       "FloatProgress(value=0.0, bar_style='info', description='Progress:', layout=Layout(height='25px', width='50%'),…"
      ]
     },
     "metadata": {},
     "output_type": "display_data"
    },
    {
     "name": "stdout",
     "output_type": "stream",
     "text": [
      "+------------------------------------------------------------------------------------------------------------------------------------------------------------------------------------------------------------------------------------------------------------------------------------------------------------------------------------+\n",
      "|topicDistribution                                                                                                                                                                                                                                                                                                                   |\n",
      "+------------------------------------------------------------------------------------------------------------------------------------------------------------------------------------------------------------------------------------------------------------------------------------------------------------------------------------+\n",
      "|[1.6318634761085135E-4,1.5871273847333175E-4,1.5718618797449504E-4,1.5981571351046984E-4,1.5922699151216046E-4,1.5769740928753983E-4,0.17594672186261204,1.565785817180594E-4,0.13402686413124257,0.1442264999653958,1.5897951567593474E-4,0.5440485550557886,1.6208889822270068E-4,1.5963954868089927E-4,1.582470522944054E-4]     |\n",
      "|[0.0014959445605560815,0.0014549345946278066,0.0014409404611171147,0.0014650454984151337,0.0014596484657948899,0.0014456267735470448,0.0014591833577365144,0.0014353707012752504,0.0015158037352811771,0.0014527545818650393,0.001457380220589677,0.5828030825994904,0.0014858841691852075,0.001463430889460659,0.39816496939105794]|\n",
      "|[1.2684189134381596E-4,1.2336464385856848E-4,1.2217806896462882E-4,0.13062648836530452,1.237643642888846E-4,1.2257544438629999E-4,1.2372487141248047E-4,0.021886735590220367,0.18670924445124887,1.2317980774127746E-4,1.2357201274144865E-4,1.2359583830667825E-4,0.5332659952132327,0.1262757367674095,1.2300266953993384E-4]     |\n",
      "|[6.302628996241172E-5,0.09242254927232722,0.12337796839638245,6.172446190630808E-5,0.0815732894779862,6.090633709584507E-5,6.147746826276428E-5,0.1817598231926722,6.386299791443517E-5,6.120663806866307E-5,6.14015194779541E-5,0.5202473864723062,6.260242812776227E-5,6.165643446171019E-5,6.111861304794466E-5]                 |\n",
      "|[0.0010670610966833066,0.001037809025178127,0.001027827261668217,0.0010450212624690172,0.0010411715860547217,0.001031169748596161,0.0010408390996592366,0.001023853662725629,0.0010812269204108227,0.0010362538935192122,0.8606578357364753,0.0010397538624057222,0.0010598849644830814,0.0010438692339067425,0.1257664226457647]   |\n",
      "+------------------------------------------------------------------------------------------------------------------------------------------------------------------------------------------------------------------------------------------------------------------------------------------------------------------------------------+\n",
      "only showing top 5 rows"
     ]
    }
   ],
   "source": [
    "df.select(\"topicDistribution\").show(5, truncate=False)"
   ]
  },
  {
   "cell_type": "code",
   "execution_count": 9,
   "metadata": {},
   "outputs": [
    {
     "data": {
      "application/vnd.jupyter.widget-view+json": {
       "model_id": "",
       "version_major": 2,
       "version_minor": 0
      },
      "text/plain": [
       "FloatProgress(value=0.0, bar_style='info', description='Progress:', layout=Layout(height='25px', width='50%'),…"
      ]
     },
     "metadata": {},
     "output_type": "display_data"
    }
   ],
   "source": [
    "#Recall topics and create a dictionary with its labels\n",
    "\n",
    "topics = {\"0\": \"Romantic relationships\",\n",
    "          \"8\": \"Dating\",\n",
    "          \"9\": \"Finances, employment and housing\",\n",
    "          \"10\": \"Social media and messaging\",\n",
    "          \"11\": \"Family\"}"
   ]
  },
  {
   "cell_type": "markdown",
   "metadata": {},
   "source": [
    "Use of AI for the following code: I was initially treating the values of topicDistribution as a list and it was not working out. I sent my code to ChatGPT:\n",
    "\n",
    "\"I have a column with my topic distribution, it's of type \"vector\". I am trying to create an udf that:\n",
    "\n",
    "- checks the largest value in that vector\n",
    "- identify the position/index of that vector\n",
    "- associate that index with a dictionary that has the topic labels\n",
    "\n",
    "This is my code:\n",
    "\n",
    "def get_topic_label(lst):\\\n",
    "    '''Takes the topic distribution for each document and returns a label'''\\\n",
    "    try:\n",
    "        topic_number = lst.index(max(lst))\\\n",
    "        if str(topic_number) in topics:\\\n",
    "            return topics[str(topic_number)]\\\n",
    "        else:\\\n",
    "            return \"Unclear topic\"\\\n",
    "    except:\\\n",
    "        return None\n",
    "\n",
    "What am I doing wrong?\"\n",
    "\n",
    "And it explained me that there are different types of vectors and that pyspark can not read all of them. It explained me that I needed to convert the numpy array into a type of object that is readable by pyspark (the DenseVector) + it also suggested using the get function to look at the labels dictionary, instead of using if/else statements. "
   ]
  },
  {
   "cell_type": "code",
   "execution_count": 10,
   "metadata": {},
   "outputs": [
    {
     "data": {
      "application/vnd.jupyter.widget-view+json": {
       "model_id": "",
       "version_major": 2,
       "version_minor": 0
      },
      "text/plain": [
       "FloatProgress(value=0.0, bar_style='info', description='Progress:', layout=Layout(height='25px', width='50%'),…"
      ]
     },
     "metadata": {},
     "output_type": "display_data"
    }
   ],
   "source": [
    "from pyspark.ml.linalg import DenseVector\n",
    "\n",
    "# Define the function to get the topic label\n",
    "def get_topic_label(vector):\n",
    "    '''\n",
    "    Takes the topic distribution for each document and returns a label\n",
    "\n",
    "    Input (numpy array): topic probabilities distribution\n",
    "    Output (string): label\n",
    "    '''\n",
    "\n",
    "    #Convert numpy array into a DenseVector\n",
    "    dense_vector = DenseVector(vector)\n",
    "        \n",
    "    #Find the index of the maximum value, which corresponds to the number of topic\n",
    "    max_index = dense_vector.argmax()\n",
    "    \n",
    "    #Look for the label in the dictionary based on the number of topic\n",
    "    return topics.get(str(max_index), \"Unclear topic\")"
   ]
  },
  {
   "cell_type": "code",
   "execution_count": 11,
   "metadata": {},
   "outputs": [
    {
     "data": {
      "application/vnd.jupyter.widget-view+json": {
       "model_id": "",
       "version_major": 2,
       "version_minor": 0
      },
      "text/plain": [
       "FloatProgress(value=0.0, bar_style='info', description='Progress:', layout=Layout(height='25px', width='50%'),…"
      ]
     },
     "metadata": {},
     "output_type": "display_data"
    }
   ],
   "source": [
    "#Tell spark to recognize an user-defined function\n",
    "udf_get_topic_label = F.udf(get_topic_label)"
   ]
  },
  {
   "cell_type": "code",
   "execution_count": 12,
   "metadata": {
    "scrolled": false
   },
   "outputs": [
    {
     "data": {
      "application/vnd.jupyter.widget-view+json": {
       "model_id": "",
       "version_major": 2,
       "version_minor": 0
      },
      "text/plain": [
       "FloatProgress(value=0.0, bar_style='info', description='Progress:', layout=Layout(height='25px', width='50%'),…"
      ]
     },
     "metadata": {},
     "output_type": "display_data"
    }
   ],
   "source": [
    "#Apply transformation to rows with UDF \n",
    "df = df.withColumn('topic_label', udf_get_topic_label(F.col('topicDistribution')))"
   ]
  },
  {
   "cell_type": "code",
   "execution_count": 13,
   "metadata": {},
   "outputs": [
    {
     "data": {
      "application/vnd.jupyter.widget-view+json": {
       "model_id": "",
       "version_major": 2,
       "version_minor": 0
      },
      "text/plain": [
       "FloatProgress(value=0.0, bar_style='info', description='Progress:', layout=Layout(height='25px', width='50%'),…"
      ]
     },
     "metadata": {},
     "output_type": "display_data"
    },
    {
     "name": "stdout",
     "output_type": "stream",
     "text": [
      "+--------------------+------+\n",
      "|         topic_label| count|\n",
      "+--------------------+------+\n",
      "|       Unclear topic|921402|\n",
      "|              Dating|240820|\n",
      "|Romantic relation...|203455|\n",
      "|              Family|101419|\n",
      "|Social media and ...| 98879|\n",
      "|Finances, employm...| 80432|\n",
      "+--------------------+------+"
     ]
    }
   ],
   "source": [
    "#Check topic distribution to ensure there's enough data to work on, and not only\n",
    "#\"Unclear topic\" submissions\n",
    "\n",
    "label_counts = df.groupBy(\"topic_label\").count()\\\n",
    "                 .orderBy(\"count\", ascending=False)\n",
    "\n",
    "# Show the results\n",
    "label_counts.show()"
   ]
  },
  {
   "cell_type": "markdown",
   "metadata": {},
   "source": [
    "Since several topics were considered vague and labeled as \"Unclear topic\" is logical that said label represents the largest category. However, there are still thousands of submissions in the other 5 defined labels that can be useful to explore.\n",
    "\n",
    "Next, I'll check some examples associated to each label to see if they make sense"
   ]
  },
  {
   "cell_type": "code",
   "execution_count": 14,
   "metadata": {},
   "outputs": [
    {
     "data": {
      "application/vnd.jupyter.widget-view+json": {
       "model_id": "",
       "version_major": 2,
       "version_minor": 0
      },
      "text/plain": [
       "FloatProgress(value=0.0, bar_style='info', description='Progress:', layout=Layout(height='25px', width='50%'),…"
      ]
     },
     "metadata": {},
     "output_type": "display_data"
    },
    {
     "name": "stdout",
     "output_type": "stream",
     "text": [
      "+---------------------------------------------------------------------------------------------------------------------------------------------------------------------------------------------------------------------------------------------------------------------------------------------------------------------------------------------------------------------------------------------------------------------------------------------------------------------------------------------------------------------------------------------------------------------------------------------------------------------------------------------------------------------------------------------------------------------------------------------------------------------------------------------------------------------------------------------------------------------------------------------------------------------------------------------------------------------------------------------------------------------------------------------------------------------------------------------------------------------------------------------------------------------------------------------------------------------------------------------------------------------------------------------------------------------------------------------------------------------------------------------------------------------------------------------------------------------------------------------------------------------------------------------------------------------------------------------------------------------------------------------------------------------------------------------------------------------------------------------------------------------------------------------------------------------------------------------------------------------------------------------------------------------------------------------------------------------------------------------------------------------------------------------------------------------------------------------------------------------------------------------------------------------------------------------------------------------------------------------------------------------------------------------------------------------------------------------------------------------------------------------------------------------------------------------------------------------------------------------------------------------------------------------------------------------------------------------------------------------------------------------------------------------------------------------------------------------------------------------------------------------------------------------------------------------------------------------------------------------------------------------------------------------------------------------------------------------------------------------------------------------------------------------------------------------------------------------------------------------------------------------------------------------------------------------------------------------------------------------------------------------------------------+\n",
      "|entire_text                                                                                                                                                                                                                                                                                                                                                                                                                                                                                                                                                                                                                                                                                                                                                                                                                                                                                                                                                                                                                                                                                                                                                                                                                                                                                                                                                                                                                                                                                                                                                                                                                                                                                                                                                                                                                                                                                                                                                                                                                                                                                                                                                                                                                                                                                                                                                                                                                                                                                                                                                                                                                                                                                                                                                                                                                                                                                                                                                                                                                                                                                                                                                                                                                                                                            |\n",
      "+---------------------------------------------------------------------------------------------------------------------------------------------------------------------------------------------------------------------------------------------------------------------------------------------------------------------------------------------------------------------------------------------------------------------------------------------------------------------------------------------------------------------------------------------------------------------------------------------------------------------------------------------------------------------------------------------------------------------------------------------------------------------------------------------------------------------------------------------------------------------------------------------------------------------------------------------------------------------------------------------------------------------------------------------------------------------------------------------------------------------------------------------------------------------------------------------------------------------------------------------------------------------------------------------------------------------------------------------------------------------------------------------------------------------------------------------------------------------------------------------------------------------------------------------------------------------------------------------------------------------------------------------------------------------------------------------------------------------------------------------------------------------------------------------------------------------------------------------------------------------------------------------------------------------------------------------------------------------------------------------------------------------------------------------------------------------------------------------------------------------------------------------------------------------------------------------------------------------------------------------------------------------------------------------------------------------------------------------------------------------------------------------------------------------------------------------------------------------------------------------------------------------------------------------------------------------------------------------------------------------------------------------------------------------------------------------------------------------------------------------------------------------------------------------------------------------------------------------------------------------------------------------------------------------------------------------------------------------------------------------------------------------------------------------------------------------------------------------------------------------------------------------------------------------------------------------------------------------------------------------------------------------------------------+\n",
      "|friendzoning a tinder datehave you ever had a tinder date where you liked the person as company but there was 0 romantic attraction i was asked on a second date and dont want to lead him on but dont know how to put this lightlyeven attempt it at all thoughts                                                                                                                                                                                                                                                                                                                                                                                                                                                                                                                                                                                                                                                                                                                                                                                                                                                                                                                                                                                                                                                                                                                                                                                                                                                                                                                                                                                                                                                                                                                                                                                                                                                                                                                                                                                                                                                                                                                                                                                                                                                                                                                                                                                                                                                                                                                                                                                                                                                                                                                                                                                                                                                                                                                                                                                                                                                                                                                                                                                                                     |\n",
      "|fell for my childhood friend but its complicatedme and him we have been friends for almost 16 years now we have spend together the most beautiful phase of our life which is our childhood everything was perfect but then in the year 2013 i have shifted to another city for studies and then we lost connection with eachother got busy with our individual lives and then in then year 2018 i somehow finded his social media id messaged him and i was very happy with the fact that he still remembered me we both were very happy and started talking with eachother almost everydaybut couldnt meet as we live in different cities so this long distance friendship was going perfect until he told me that he has a girlfriend it wasnt that i was in love with him at that time but i just felt very weird i was not able to accept the fact that he has other girl in his life and i got very insecure about that i wasnt ready to share my bestfriend with some other girl and because of this i started ignoring him for the next 3 months and then one day he messaged me saying i really need you right now she broke up with me and i felt sorry for him but at the same time i was happy that she is not here between us anymore and during the 3 months in which we didnt talked i have realised that i started developing feelings for him  now as he was going through a very rough phase i tried to make him happy and literally did every small thing which makes him happy and he even thanked me for always being there for him and cheering him up during the tough times but the one thing that pissed me off was that he still used to talk about his ex and how much he still loves hernow the thing is i love him a lot its been 2 years almost of this but i still cant gather the courage of telling him that i love him and would love to try how this one will go but the fact that he still loves his ex makes me scare that what if he rejects me will i be able to take it what if the friendship doesnt remain the same all these scenarios never allowed me to confess my feelings to him we still are on very good terms we still talk everyday but now this whole thing has been very exhausting for me                                                                                                                                                                                                                                                                                                                                                                                                                                                                                                                                                                                                                                                                                                                                                                                                                                                                                                                                                                                                                                        |\n",
      "|mutual feelings with close friendso this girl 22 f and i 22 m have known each other for at least 4 years now ever since i met get i knew i liked her but she was in a relationship then i am her best friend and have heard everything from her past relationships so some would say that im already just a friend to her  recently she told be that she loved me while drunk she called me sober and just told me she wasnt lying she wanted to know why i didnt make a move earlier she wanted to do it too but  was worried that if the relationship happened we might never be friends if something happened   she is still on the fence because she doesnt have many friends but i really want it to happen i dont know what to do thanks for the help                                                                                                                                                                                                                                                                                                                                                                                                                                                                                                                                                                                                                                                                                                                                                                                                                                                                                                                                                                                                                                                                                                                                                                                                                                                                                                                                                                                                                                                                                                                                                                                                                                                                                                                                                                                                                                                                                                                                                                                                                                                                                                                                                                                                                                                                                                                                                                                                                                                                                                                            |\n",
      "|how to suggest a three way with my girlfriend me and a friendi want to have a three way and the friend is open to it but i dont know how to ask my girlfriend is having a threesome in a relationship normal is it okay                                                                                                                                                                                                                                                                                                                                                                                                                                                                                                                                                                                                                                                                                                                                                                                                                                                                                                                                                                                                                                                                                                                                                                                                                                                                                                                                                                                                                                                                                                                                                                                                                                                                                                                                                                                                                                                                                                                                                                                                                                                                                                                                                                                                                                                                                                                                                                                                                                                                                                                                                                                                                                                                                                                                                                                                                                                                                                                                                                                                                                                                |\n",
      "|how do i stop being afraid of rejection and be more confident when approaching girls i like how can i stop being shy and be more comfortable when talking to certain girls i likeim 22 and ill admit i suck at talking to women women dont necessarily hate me but i dont have a lot of game at all im not a “top dawg” by any means i need to gain more confidence when talking to girls i like and get rid of the fear of rejection  theres been a lot of times where certain girls had a lot of the qualities that i liked but i was too scared to approach them because i feel afraid of being rejected  theres been plenty of times where a girl that i liked and had qualities that i liked was single i was too afraid to approach her and tell her that i wanted to get to know her… and eventually i ran out of time and those girls ended up dating other guys so i lost my chance when i had it  im 22 so its about time i stop being a shy weirdo sometimes im afraid to even joke with a girl because im worried shell actually be offended or take it seriously coming for me like sometimes im afraid to something as a joke to teaser because im worried coming for me shell take it literally  however how do you have confidence when youve been rejecting a lot they always say having confidence improve your chances and gives you more options but if youve been rejected a lot… how can you continue to be confident at that point  not only do i want to be able to be confident though but i also dont wanna come off as the corny confident… and weve all seen that before everybody knows at least one of those guys theres always that one a whole guy who spits game but his game is weak as hell and on top of that hes always really mean to other guys but hes only nice to girls because he thinks in exchange shell wanna have sex with him   i am a loyal man myself… i dont wanna come off as a player i want to have a game and i wanna be able to approach without being shy but i also dont want to be seen as a player i also dont wanna say things confidently and have them come off as corny if that makes sense    i dont want to be seen as somebody who acts cool pretends to be someone that im not i wanna be confident but i also wanna be confidently myself when talking to girls i like and i dont wanna be shy  on top of that i certainly dont wanna come off as the creepy confident i dont think anyone with a fraction of a working brain cell would wanna come off as creepy especially when it comes to someone they would like to have a future with or just someone they like in general i dont think anyone in their right mind would want to be looked at as creepy so that just goes without saying i just wanna learn to be confident without being creepy  i need to get better at selflove as well im not insecure but i definitely need to practice selflove which could give me more options and potentially more confidence  whats the best way i can get rid of the fear of rejection also how can i confidently approach a girl without coming off as corny or creepy how can i stop being shy and learn to be more comfortable with talking to girls i like when i find someone else that i like in the future|\n",
      "+---------------------------------------------------------------------------------------------------------------------------------------------------------------------------------------------------------------------------------------------------------------------------------------------------------------------------------------------------------------------------------------------------------------------------------------------------------------------------------------------------------------------------------------------------------------------------------------------------------------------------------------------------------------------------------------------------------------------------------------------------------------------------------------------------------------------------------------------------------------------------------------------------------------------------------------------------------------------------------------------------------------------------------------------------------------------------------------------------------------------------------------------------------------------------------------------------------------------------------------------------------------------------------------------------------------------------------------------------------------------------------------------------------------------------------------------------------------------------------------------------------------------------------------------------------------------------------------------------------------------------------------------------------------------------------------------------------------------------------------------------------------------------------------------------------------------------------------------------------------------------------------------------------------------------------------------------------------------------------------------------------------------------------------------------------------------------------------------------------------------------------------------------------------------------------------------------------------------------------------------------------------------------------------------------------------------------------------------------------------------------------------------------------------------------------------------------------------------------------------------------------------------------------------------------------------------------------------------------------------------------------------------------------------------------------------------------------------------------------------------------------------------------------------------------------------------------------------------------------------------------------------------------------------------------------------------------------------------------------------------------------------------------------------------------------------------------------------------------------------------------------------------------------------------------------------------------------------------------------------------------------------------------------------+"
     ]
    }
   ],
   "source": [
    "df.filter(df.topic_label == \"Dating\")\\\n",
    "  .sample(0.0001, seed=25)\\\n",
    "  .limit(5)\\\n",
    "  .select(\"entire_text\").show(truncate=False)"
   ]
  },
  {
   "cell_type": "code",
   "execution_count": 15,
   "metadata": {},
   "outputs": [
    {
     "data": {
      "application/vnd.jupyter.widget-view+json": {
       "model_id": "",
       "version_major": 2,
       "version_minor": 0
      },
      "text/plain": [
       "FloatProgress(value=0.0, bar_style='info', description='Progress:', layout=Layout(height='25px', width='50%'),…"
      ]
     },
     "metadata": {},
     "output_type": "display_data"
    },
    {
     "name": "stdout",
     "output_type": "stream",
     "text": [
      "+--------------------------------------------------------------------------------------------------------------------------------------------------------------------------------------------------------------------------------------------------------------------------------------------------------------------------------------------------------------------------------------------------------------------------------------------------------------------------------------------------------------------------------------------------------------------------------------------------------------------------------------------------------------------------------------------------------------------------------------------------------------------------------------------------------------------------------------------------------------------------------------------------------------------------------------------------------------------------------------------------------------------------------------------------------------------------------------------------------------------------------------------------------------------------------------------------------------------------------------------------------------------------------------------------------------------------------------------------------------------------------------------------------------------------------------------------------------------------------------------------------------------------------------------------------------------------------------------------------------------------------------------------------------------------------------------------------------------------+\n",
      "|entire_text                                                                                                                                                                                                                                                                                                                                                                                                                                                                                                                                                                                                                                                                                                                                                                                                                                                                                                                                                                                                                                                                                                                                                                                                                                                                                                                                                                                                                                                                                                                                                                                                                                                                                                               |\n",
      "+--------------------------------------------------------------------------------------------------------------------------------------------------------------------------------------------------------------------------------------------------------------------------------------------------------------------------------------------------------------------------------------------------------------------------------------------------------------------------------------------------------------------------------------------------------------------------------------------------------------------------------------------------------------------------------------------------------------------------------------------------------------------------------------------------------------------------------------------------------------------------------------------------------------------------------------------------------------------------------------------------------------------------------------------------------------------------------------------------------------------------------------------------------------------------------------------------------------------------------------------------------------------------------------------------------------------------------------------------------------------------------------------------------------------------------------------------------------------------------------------------------------------------------------------------------------------------------------------------------------------------------------------------------------------------------------------------------------------------+\n",
      "|wth just happenedwhat do you do when find out the person youve been dating for almost 2 years has been lying cheating stealing and ruining my personal belongings amongst other horrible things  isnt the slightest bit sorry and actually hates me now for no other apparent reason  i dont cheat and dont usually lie  specially about cheating and looks like hes getting a hard on everytime he gives or shows me something new thats really a big fat ” fk you again so he and his side friends can laugh  i wanna kill the whole parade of them but should i im thinking its bad karma all the way around and right back on me again  anyone any input will help and this is my first post thanks me trying to do my thing again  phhtt this is harder than i thought                                                                                                                                                                                                                                                                                                                                                                                                                                                                                                                                                                                                                                                                                                                                                                                                                                                                                                                                               |\n",
      "|is it better to get “issues” you have as a person out of the way first or let your partner find outtell them laterthis might be a weird one but i 26m struggled a lot with depressive disorder anxiety and still have hints of abandonment issues that leak through when im alone but i got therapy for all of these   my “friend” and i who possibly might be heading towards dating both have issues and we opened them up to each other weve been seeing each other for about 2 weeks   im afraid that if i open up to someone early on my issues that i had could put them off me especially as im only starting to get back into dating after being out of it for well over 2 years  is it better to get these out of the way early or let it come out over time                                                                                                                                                                                                                                                                                                                                                                                                                                                                                                                                                                                                                                                                                                                                                                                                                                                                                                                                                     |\n",
      "|i am constantly afraid that my boyfriend lost his feelingsgot boredit is mostly a need for personal advice  i am 22 and my bf is 24 we are dating for 9 months it is an amazing relationship we get along really well my issue is i am very paranoid about my relationships i probably have an anxious attachment style and i get pretty concerned about everything my bf says or doest saydo i have always been this way  but lately it got out of control   my previous relationship was a really long one almost 3 years and it ended suddenly he lost his feelings for me and we kind of lost the spark and our connection and he tried to fake it for months then dumped me out of blue some hard times have passed and i of course moved on but i guess that experience really traumatized me  it is really hard for me to believe my boyfriend still loves me and still feels excited and happy about our relationship it came to the point that i almost think that he doesnt really love me as much as i do and feels trappedbored in our relationship  he is very caring and loving he shows his feelings for me all the time but i just cant help it i have this crazy fear that someday it will all end or he will just realize that we dont have that type of connection that he thought we had and i feel like that could happen anytime any second it is crazy and very tiring for me as well calling myself paranoid would be an insult to paranoids i think i am nuts   how do i get rid of this fear and how do i focus on the moment how do i feel secure in my relationship like i should please help i am lost                                                                                       |\n",
      "|23m can you rekindle old flames when you know you screwed upheres the back story  years ago maybe three i think there was a girl that i liked and she really liked me this was a point in my life i was really picky with the girls i dated i was also weird with sex and generally felt uncomfortable with the whole thing this also prevented me developing relationships with other girls long story short i didnt officially date her i didnt handle it very well also i kind of just stopped talking to her and sort of ignored her i was young and stupid ive been thinking about her for the past year or so and i feel terrible no honestly if i could dig a hole and crawl in it i would i really wish i could tell her how terrible i feel and everything i cant believe i didnt at least try to see what would happen i just cut it off after a few weeks of seeing her because i felt that i could do better or because i was scared and insecure sexually i dont know im ranting at this point  now that im out of college and have had more experience ive thought back to her and i honestly want to try and start over again im not sure that i can though i wrote up a draft that explains how horrible i feel and have wanted to give it to her for quite a while now im feeling more confident about sending it out but im not sure if im making a mistake or opening up a can of worms that will ultimately blow up in my face if you would all like to read said letter then id be more than happy to share it with you  so people of rrelationshipadvice what should i do i really want to see her again and try to get involved romantically but im not sure if its a lost cause and just accept it|\n",
      "|why is it so difficult for me to fully trust my boyfriendhe hasnt done anything bad to me never cheated never shown any interest to any girl hes perfect yet i still cant fully trust him i dont wanna say its because of my failed past relationships and traumas because i dont think thats valid also does being unsure of my worth affects this too   im just sorry for my boyfriend because he deserves the world and i cant even trust him                                                                                                                                                                                                                                                                                                                                                                                                                                                                                                                                                                                                                                                                                                                                                                                                                                                                                                                                                                                                                                                                                                                                                                                                                                                                          |\n",
      "+--------------------------------------------------------------------------------------------------------------------------------------------------------------------------------------------------------------------------------------------------------------------------------------------------------------------------------------------------------------------------------------------------------------------------------------------------------------------------------------------------------------------------------------------------------------------------------------------------------------------------------------------------------------------------------------------------------------------------------------------------------------------------------------------------------------------------------------------------------------------------------------------------------------------------------------------------------------------------------------------------------------------------------------------------------------------------------------------------------------------------------------------------------------------------------------------------------------------------------------------------------------------------------------------------------------------------------------------------------------------------------------------------------------------------------------------------------------------------------------------------------------------------------------------------------------------------------------------------------------------------------------------------------------------------------------------------------------------------+"
     ]
    }
   ],
   "source": [
    "df.filter(df.topic_label == \"Romantic relationships\")\\\n",
    "  .sample(0.0001, seed=25)\\\n",
    "  .limit(5)\\\n",
    "  .select(\"entire_text\").show(truncate=False)"
   ]
  },
  {
   "cell_type": "code",
   "execution_count": 16,
   "metadata": {},
   "outputs": [
    {
     "data": {
      "application/vnd.jupyter.widget-view+json": {
       "model_id": "",
       "version_major": 2,
       "version_minor": 0
      },
      "text/plain": [
       "FloatProgress(value=0.0, bar_style='info', description='Progress:', layout=Layout(height='25px', width='50%'),…"
      ]
     },
     "metadata": {},
     "output_type": "display_data"
    },
    {
     "name": "stdout",
     "output_type": "stream",
     "text": [
      "+-----------------------------------------------------------------------------------------------------------------------------------------------------------------------------------------------------------------------------------------------------------------------------------------------------------------------------------------------------------------------------------------------------------------------------------------------------------------------------------------------------------------------------------------------------------------------------------------------------------------------------------------------------------------------------------------------------------------------------------------------------------------------------------------------------------------------------------------------------------------------------------------------------------------------------------------------------------------------------------------------------------------------------------------------------------------------------------------------------------------------------------------------------------------------------------------------------------------------------------------------------------------------------------------------------------------------------------------------------------------------------------------------------------------------------------------------------------------------------------------------------------------------------------------------------------------------------------------------------------------------------------------------------------------------------------------------------------------------------------------------------------------------------------------------------------------------------------------------------------------------------------------------------------------------------------------------------------------------------------------------------------------------------------------------------------------------------------------------------------------------------------------------------------------------------------------------------------------------------------------------------------------------------------------------------------------------------------------------------------------------------------------------------------------------------------------------------------------------------------------------------------------------------------------------------------------------------------------------------------------------------------------------------------------------------------------------------------------------------------------------------------------------------------------------------------------------------------------------------------------------------------------------------------------------------------------------------------------------------------------------------------------------------------------------------------------------------------------------------------------------------------------------------------------------------------------------------------------------------------------------------------------------------------------------------------------------------------------------------------------------------------------------------------------------------------------------------------------------------------------------------------------------------------------------------------------------------------------------------------------------------------------------------------------------------------------------------------------------------------------------------------------------------------------------------------------------------+\n",
      "|entire_text                                                                                                                                                                                                                                                                                                                                                                                                                                                                                                                                                                                                                                                                                                                                                                                                                                                                                                                                                                                                                                                                                                                                                                                                                                                                                                                                                                                                                                                                                                                                                                                                                                                                                                                                                                                                                                                                                                                                                                                                                                                                                                                                                                                                                                                                                                                                                                                                                                                                                                                                                                                                                                                                                                                                                                                                                                                                                                                                                                                                                                                                                                                                                                                                                                                                                                                                                                                                                                                                                                                                                                                                                                                                                                                                                                                                                  |\n",
      "+-----------------------------------------------------------------------------------------------------------------------------------------------------------------------------------------------------------------------------------------------------------------------------------------------------------------------------------------------------------------------------------------------------------------------------------------------------------------------------------------------------------------------------------------------------------------------------------------------------------------------------------------------------------------------------------------------------------------------------------------------------------------------------------------------------------------------------------------------------------------------------------------------------------------------------------------------------------------------------------------------------------------------------------------------------------------------------------------------------------------------------------------------------------------------------------------------------------------------------------------------------------------------------------------------------------------------------------------------------------------------------------------------------------------------------------------------------------------------------------------------------------------------------------------------------------------------------------------------------------------------------------------------------------------------------------------------------------------------------------------------------------------------------------------------------------------------------------------------------------------------------------------------------------------------------------------------------------------------------------------------------------------------------------------------------------------------------------------------------------------------------------------------------------------------------------------------------------------------------------------------------------------------------------------------------------------------------------------------------------------------------------------------------------------------------------------------------------------------------------------------------------------------------------------------------------------------------------------------------------------------------------------------------------------------------------------------------------------------------------------------------------------------------------------------------------------------------------------------------------------------------------------------------------------------------------------------------------------------------------------------------------------------------------------------------------------------------------------------------------------------------------------------------------------------------------------------------------------------------------------------------------------------------------------------------------------------------------------------------------------------------------------------------------------------------------------------------------------------------------------------------------------------------------------------------------------------------------------------------------------------------------------------------------------------------------------------------------------------------------------------------------------------------------------------------------------------------+\n",
      "|how do i 15m deal with my dad 38 who is bitter after my mom 35 got married to my stepdadmy mom had been dating this really nice and handsome guy 35 for three years he is really nice and loving he is also tall and blonde  my dad is kinda weird and he isnt responsible at all either he is ok as a father but he rarely bothers calling or texting but i do see him almost every holiday   im at his place now and just told him about my life in general and that my mom got married he didnt take it well and got kinda mad and started saying sexual shit probably to piss my stepdad off but he wasnt even there he told me how much he wants to fuck her again and i told him to shut up  now i dont know how to be with him for a week because he is such a loser i want him to stop being so bitter and be happy for my mom instead how could i deal with my dad                                                                                                                                                                                                                                                                                                                                                                                                                                                                                                                                                                                                                                                                                                                                                                                                                                                                                                                                                                                                                                                                                                                                                                                                                                                                                                                                                                                                                                                                                                                                                                                                                                                                                                                                                                                                                                                                                                                                                                                                                                                                                                                                                                                                                                                                                                                                                                                                                                                                                                                                                                                                                                                                                                                                                                                                                                                                                                                                                  |\n",
      "|my 23m girlfriend 21f has been going through a lot lately  she had to unexpectedly move back home her jobs situation isnt the brightest we got pushed into a longdistance and 2 week ago her grandpa passed away yesterday she had what looks like an anxiety attack how do i help we have known each other for around 2 years and have been dating for 15 years just before the pandemic we had landed jobs with offices 10 mins away in the city we wanted to be in she had been here for a few months and i was going to shift after my graduation     however the pandemic hit and we both are now stranded on opposite coasts of our country she went back home because her parents wanted her and her sister close to them and now they share a room the thing is my girlfriend has always felt a bit bullied by her elder sister who can be quite controlling at times whenever they share rooms there are problems my girlfriend started getting zero alone time we only really talk at night where i speak on the call and she texts on wa alone time was important for her and she hasnt had any for a good half a year to top it off she lives in a house of 8 other people and the family members fight a lot they arent really supportive of each other and this has made things worse she finds the environment negatively     along with these are other problems too her paternal grandmother had passed away 15 years ago and she never really moved on from this she has had scary dreamsthoughts about this very often her paternal grandpa lives with them and has become very week due to his age she has been terrified of losing him ever since the pandemic hit and this was building on to the stress last fortnight in a matter of hours her maternal grandpa whom she was close to passed away this was a big shock and she is still only accepting this she saw her mother and her maternal grandma break down and that has had a huge impact on her she recently complaining about being scared of the dark too     to add to all of this she is not liking her current job and after she told this to her father her father has been saying that he doesnt think she should go back to the city for this job this might mean that shes trapped with her sister indefinitely  and  we might not get to move in for quite some time i think she is guilty about not being able to move because i had to work quite hard to get a good job in the city she feels that shes being unable to do her part in moving when i did my part in landing the job     all these things happen in the past 4 to 5 months she also is worried about not getting a better job last week she spoke to me about possible sleep apnea her sister went to the city for 2 weeks yesterday so we were speaking and planning to sleep on call last night this is when she said shes having trouble breathing happens to her with weather changes so i wasnt very worried soon she said she felt scared and wanted to sleep in her parents room this night must be really bad because we have only 14 days free of her sister and she would have wanted to spend all 14 with me     this morning i saw texts from after she had gone to their room she had involuntary shivered for a long time her jaw had starting hurting and she couldnt stop shivering she didnt have a fever she sweated a lot and only after all this she calmed down in her parents presence and went to sleep she called her family doctor and he suggested she take a med before sleeping for two nights she googled to find out that it was an anxiety med     it seems that the doctor concluded it was an anxiety attack if it was i really want to help her im not sure how to      any any advice is welcome sorry for typos im on mobile|\n",
      "|need advice on my messed up marriagei 29m have been married for about 9 years got married to a girl 29f because she was pregnant i always hoped things would get better but over the years things have gotten decidedly worse thing is i have tried to leave but we have to kids and she uses them as leverage against me she has lied to the police to get me arrested before had two affairs and is just an all around narcissistic psycho  ampx200b  with that said she will not allow me to end the relationship despite my various attempts and pleas to put an end to it i am at a point now where i would essentially have to walk out on my kids to get away i cant do that so i stay she controls everything about my life even though i have never been unfaithful and she has she acts as though i am untrustworthy she has gotten me fired from every job i have had these last nine years and keeps control of the money i have been working toward a cs degree through an online school and she has broken two of my laptops in the past several years delaying my ability to progress  ampx200b  i have told her blatantly that i do not love her and would like a divorce so we can have equal rights to the kids but she refuses i have lost all of friends because she has convinced everyone i am a violent psycho when really she is the one who frequently attacks me i cant get away from her even if i try to leave for a little while she comes after me and always find me i dont really have anywhere to go i have no access to money and she always takes my keys when she leaves for work  ampx200b  i dont know what to do she has done some pretty crazy shit right in front of our kids and honestly i would be happier raising them alone then with her unstable bullshit in their lives but even so i am willing to coparent i just want to be left alone but dont know what to do i even tried to get a restraining order but she turned it around and turned the judge against me she is not against lying abusing and manipulating whoever it takes to get what she wants i am sorry i ever got involved with this woman is there anything i can do i feel like i am losing my mind lately i cant even focus on my homework and i live in a constant state of dread i can only imagine how this is affecting my children i just want it to end peacefully                                                                                                                                                                                                                                                                                                                                                                                                                                                                                                                                                                                                                                                                                                                                                                                                                                                                                                                                                                                                                                                                                                                                                                                                                                                                                                                                                                                                                                |\n",
      "|i 31m and 99 sure my gfs 28f sister is a major pornstarhi relationship advice  wanted to get your thoughts on this situation been with current gf for 3 years and everythings been great but a kinda interesting situation came up recently   while browsing certain adult themed subreddits the other day i came across a pic of someone who caught my attention it took me a few mins to realize why but then it hit me that i was looking at a picture of my gfs older sister at first i brushed it off as just someone who looks alike and all that but curiosity got the better of me and i looked up the pornstar in question the next day    its her sister i know i cant be 100 sure but its a 9999 kinda situation theres a few very identifiable and unique characteristics of this girl that immediately point towards them being one in the same and everything else matches height proportions etc according the a couple interviews the pornstars done with some adult websites shes even based in the same 2 cities and they are far apart that my gfs sister says she consults in and with the other signs its clear to me that its her   my question is should i mention it to my girlfriend im pretty confident she doesnt know this about her sister at the moment im pretty sure that i should not tell her about it because it would be up to her sister to bring it up to her but i wanted to get second opinions on it from the community personally i definitely of want to tell her only because im a little worried about there being awkwardness when were all together in the future but i dont think that trumps her sisters right to let people know when she wants and not awkwardness because its adult stuff i think its awesome she does that stuff and i think my gf would agree but akwardness because i feel like im keeping secrets when interacting with her  tldr girlfriends sister is a top level pornstar gf doesnt know just wondering if thats something i should let her know about or not  thanks ra                                                                                                                                                                                                                                                                                                                                                                                                                                                                                                                                                                                                                                                                                                                                                                                                                                                                                                                                                                                                                                                                                                                                                                                                                                                                                                                                                                                                                                                                                                                                                                                                                                                                                                                                                                          |\n",
      "|i 18m slept with my moms half sister we got caught and i dont know what to do nexti am stuck in a massive shithole i know how messed up and inappropriate what i did was but thats not my greatest problem right now i hooked up with my mothers older half sister so we arent 100 blood related for part of my life we grew up living in a smaller home on her property we basically lived together and we share a close bond   she has helped my mom shes like 46 and my mom is 41 financially a few times gave us a place to stay and she helped me with school last week i turned 18 and they threw a surprise birthday party for me they gave me a lot of drinks as a celebration they do that a lot in my family so i was not 100 thinking things through my moms sister was also drinking a little and we just stayed up hanging out it was like 2 am so everybody else was asleep  we ended up in her bed together and her daughter 22f caught us after she flipped out on us but hasnt told anybody else it just happened once and its not an ongoing thing either shes been a bit distant with me when we used to be really close i havent tried talking with her about it because its wierd that i slept with her mom but she hasnt mentioned it and hasnt told anybody yet i dont know if i should talk with her about it and apologize should i ask her to not tell anybody or just not bring it up or something  tldr should i talk with my cousin who caught me sleeping with her mom i dont know what the right thing to do is so i need some advice                                                                                                                                                                                                                                                                                                                                                                                                                                                                                                                                                                                                                                                                                                                                                                                                                                                                                                                                                                                                                                                                                                                                                                                                                                                                                                                                                                                                                                                                                                                                                                                                                                                                                                                                                                                                                                                                                                                                                                                                                                                                                                                                                                                                                                                         |\n",
      "+-----------------------------------------------------------------------------------------------------------------------------------------------------------------------------------------------------------------------------------------------------------------------------------------------------------------------------------------------------------------------------------------------------------------------------------------------------------------------------------------------------------------------------------------------------------------------------------------------------------------------------------------------------------------------------------------------------------------------------------------------------------------------------------------------------------------------------------------------------------------------------------------------------------------------------------------------------------------------------------------------------------------------------------------------------------------------------------------------------------------------------------------------------------------------------------------------------------------------------------------------------------------------------------------------------------------------------------------------------------------------------------------------------------------------------------------------------------------------------------------------------------------------------------------------------------------------------------------------------------------------------------------------------------------------------------------------------------------------------------------------------------------------------------------------------------------------------------------------------------------------------------------------------------------------------------------------------------------------------------------------------------------------------------------------------------------------------------------------------------------------------------------------------------------------------------------------------------------------------------------------------------------------------------------------------------------------------------------------------------------------------------------------------------------------------------------------------------------------------------------------------------------------------------------------------------------------------------------------------------------------------------------------------------------------------------------------------------------------------------------------------------------------------------------------------------------------------------------------------------------------------------------------------------------------------------------------------------------------------------------------------------------------------------------------------------------------------------------------------------------------------------------------------------------------------------------------------------------------------------------------------------------------------------------------------------------------------------------------------------------------------------------------------------------------------------------------------------------------------------------------------------------------------------------------------------------------------------------------------------------------------------------------------------------------------------------------------------------------------------------------------------------------------------------------------------------------------+"
     ]
    }
   ],
   "source": [
    "df.filter(df.topic_label == \"Family\")\\\n",
    "  .sample(0.0001, seed=25)\\\n",
    "  .limit(5)\\\n",
    "  .select(\"entire_text\").show(truncate=False)"
   ]
  },
  {
   "cell_type": "code",
   "execution_count": 17,
   "metadata": {},
   "outputs": [
    {
     "data": {
      "application/vnd.jupyter.widget-view+json": {
       "model_id": "",
       "version_major": 2,
       "version_minor": 0
      },
      "text/plain": [
       "FloatProgress(value=0.0, bar_style='info', description='Progress:', layout=Layout(height='25px', width='50%'),…"
      ]
     },
     "metadata": {},
     "output_type": "display_data"
    },
    {
     "name": "stdout",
     "output_type": "stream",
     "text": [
      "+-------------------------------------------------------------------------------------------------------------------------------------------------------------------------------------------------------------------------------------------------------------------------------------------------------------------------------------------------------------------------------------------------------------------------------------------------------------------------------------------------------------------------------------------------------------------------------------------------------------------------------------------------------------------------------------------------------------------------------------------------------------------------------------------------------------------------------------------------------------------------------------------------------------------------------------------------------------------------------------------------------------------------------------------------------------------------------------------------------------------------------------------------------------------------------------------------------------------------------------------------------------------------------------------------------------------------------------------------------------------------------------------------------------------------------------------------------------------------------------------------------------------------------------------------------------------------------------------------------------------------------------------------------------------------------------------------------------------------------------------------------------------------------------------------------------------------------------------------------------------------------------------------------------------------------------------------------------------------------------------------------------------------------------------------------------------------------------------------------------------------------------------------------------------------------------------------------------------------------------------------------------------------------------------------------------------------------------------------------------------------------------------------------------------------------------------------------------------------------------------------------------------------------------------------------------------------------------------------------------------------------------------------------------------------------------------------------------------------------------------------------------------------------------------------------------------------------------------------------------------------------------------------------------------------------------------------------------------------------------------------------------------------------------------------------------------------------------------------------------------------------------------------------------------------------------------------------------------------------------------------------------------------------------------------------------------------------------------------------------------------------------------------------------------------------------------------------------------------------------------------------------------------------------------------------------------------------------------------------------------------------------------------------------------------------------------------------------------------------------------------------------------------------------------------------------------------------------------------------------------------------------------------------------------------------------------------------------------------------------------------------------------------------------------------------------------------------------------------------------------------------------------------------------------------------------------------------------------------------------------------------------------------------------------------------------------------------------------------------------------------------------------------------------------------------------------------------------------------------------------------------------------------------------------------------------------------------------------------------------------------------------------------------------------------------------------------------------------------------------------------------------------------------------------------------------------------------------------------------------------------------------------------+\n",
      "|entire_text                                                                                                                                                                                                                                                                                                                                                                                                                                                                                                                                                                                                                                                                                                                                                                                                                                                                                                                                                                                                                                                                                                                                                                                                                                                                                                                                                                                                                                                                                                                                                                                                                                                                                                                                                                                                                                                                                                                                                                                                                                                                                                                                                                                                                                                                                                                                                                                                                                                                                                                                                                                                                                                                                                                                                                                                                                                                                                                                                                                                                                                                                                                                                                                                                                                                                                                                                                                                                                                                                                                                                                                                                                                                                                                                                                                                                                                                                                                                                                                                                                                                                                                                                                                                                                                                                                                                                                                                                                                                                                                                                                                                                                                                                                                                                                                                                                                                                      |\n",
      "+-------------------------------------------------------------------------------------------------------------------------------------------------------------------------------------------------------------------------------------------------------------------------------------------------------------------------------------------------------------------------------------------------------------------------------------------------------------------------------------------------------------------------------------------------------------------------------------------------------------------------------------------------------------------------------------------------------------------------------------------------------------------------------------------------------------------------------------------------------------------------------------------------------------------------------------------------------------------------------------------------------------------------------------------------------------------------------------------------------------------------------------------------------------------------------------------------------------------------------------------------------------------------------------------------------------------------------------------------------------------------------------------------------------------------------------------------------------------------------------------------------------------------------------------------------------------------------------------------------------------------------------------------------------------------------------------------------------------------------------------------------------------------------------------------------------------------------------------------------------------------------------------------------------------------------------------------------------------------------------------------------------------------------------------------------------------------------------------------------------------------------------------------------------------------------------------------------------------------------------------------------------------------------------------------------------------------------------------------------------------------------------------------------------------------------------------------------------------------------------------------------------------------------------------------------------------------------------------------------------------------------------------------------------------------------------------------------------------------------------------------------------------------------------------------------------------------------------------------------------------------------------------------------------------------------------------------------------------------------------------------------------------------------------------------------------------------------------------------------------------------------------------------------------------------------------------------------------------------------------------------------------------------------------------------------------------------------------------------------------------------------------------------------------------------------------------------------------------------------------------------------------------------------------------------------------------------------------------------------------------------------------------------------------------------------------------------------------------------------------------------------------------------------------------------------------------------------------------------------------------------------------------------------------------------------------------------------------------------------------------------------------------------------------------------------------------------------------------------------------------------------------------------------------------------------------------------------------------------------------------------------------------------------------------------------------------------------------------------------------------------------------------------------------------------------------------------------------------------------------------------------------------------------------------------------------------------------------------------------------------------------------------------------------------------------------------------------------------------------------------------------------------------------------------------------------------------------------------------------------------------------------------------+\n",
      "|things are bad with soulmate hubby other women involvedlet me start this by saying that when i married hubby 2 years ago we were absolutely soulmates things have sucked lately but he is not a terrible person by nature so i still hope things get better he was literally everything i have ever wanted despite how he will sound in this post that said  my 30ishf husband 40ishm and i have had issues for the last 6 months really since he went back to school i was in grad school but was able to complete my classes without a problem whereas it was a constant struggle for him it took a major toll on our relationship he ignored my birthday my program completion and we never saw each other he moved into the basement in his words so i could get a better night of sleep without him since hes a heavy snorer i have intimacy needs and hubby expressed that i “cant do anything to turn him on” because its up to him and not me he also told me that lingerie does nothing for him which is infuriating since he bought his ex lingerie and that when hes mad at me hes not attracted to me i feel like hes just saying things to hurt me now   it came to a head when i started talking to a friend again jared after years off jared and i have been friends forever we used to travel together he walked my mom down the aisle at my wedding he was there for me through every major event in my life when my dad passed away i leaned a little too heavily on him and we had a brief relationship before i ever even met hubby realizing it wasnt healthy i ended it i took a few years off of our friendship to make sure id be fine being friends with him again jared was a fantastic friend but a terrible boyfriend i found out jared wasnt doing well emotionally but i still left him alone not long after he attempted to kill himself i contacted him immediately i need to stress that i havent seen him he says he doesnt want to see me he doesnt socialize at all anymore unless its by text hubby was not a fan of jared but didnt forbid me from speaking to him until he saw our phone bill and noticed jared and i were texting a lot the last few months he lost his shit and accused me of cheating deleting the “juicy” stuff hiding things and harboring lust for him things with hubby got very very bad most recently he failed one of his classes and is talking about moving out he told me he needs “time” to accept what i did i get it i dont think i did anything wrong but hes still hurt i get that much at least we started going to therapy but his family has already “dumped” me which sucks because i have a child that theyre also dumping he makes no effort to mend things with me   but the thing i am seeing red over is that he invited me to look at his phone a few weeks ago to prove that he wasnt doing anything untoward he was such an ass about it that i passed assuming the invitation was still open i looked today you know when he was unprepared for me to do so he doesnt know i looked in the last class he took the prof was insistent that they all share their phone numbers and be in constant communication i found it inappropriate that he was getting texts from a dozen new women at all hours about class it felt like they were trying to insert themselves in our life by bothering him with stupid questions at weird hours there were two women in particular i had a problem with girl a is 26 and attractive his “type” and girl b is 23 and flat out gorgeous for the record im very fit and i think im attractive both are flirty they texted a lot he added them on fb and today when i checked i see that he has a group thread with the two of them i didnt know that the three of them got breakfast together last week hubby has an adventurous sexual history so this innocent thing that he hid from me could have easily been something else especially when he wont come anywhere near me   girl a texts him almost every day despite the class being over and what pisses me off is that shes asking if hes moved out if he wants things to get better with me comments that maybe things would be better if he left its inappropriate yesterday she told him she wanted to take him out for drinks with girl b to “take his mind off of things” he laughed it off said he appreciated the offer but no never once in all of these messages did he say he was still married still loved me he just said he needed to “unfuck his life”   now that i know hes doing exactly what he thinks i did i dont know how to address it my sister wants me to confront him my best friend wants me to kick his ass and sleep with jared i dont like any of these options do i confront the girls and tell them to step the fuck off like i said im seeing red and just dont know what to do|\n",
      "|is he hiding me interracial relationshipthis may be a little long but bare with me  im 29 biracial half eastern euro and half black he is 33 and sri lankan  we have been together for about 6 months weve gone on a trip weekend getaways and etc ive met his family numerous times stayed at their house and vic versa he tells me he has done a lot of firsts with me like having someone stay at his parents house bringing me to his aunts and etc also a few of his friends have told me im the first girl hes brought around weve gone to work parties  friend get togethers each others churches we are the same denomination cultural events birthdays and spent holidays together but i still have this nagging gut feeling  through all of these things he has not posted one thing on facebook not even one thing about the trip which i found kind of odd since he posted all his previous trips a lot goes through my head like maybe he doesnt want people or other women to question him or something weve taken such nice pictures both solo and together and nothing is posted pretty much ever since we started dated he has stopped posting  another thing with facebook is when our relationship was new i noticed that he was always liking girls pictures it always showed somehow in my news feed and my suggested friends were always women and he was the mutual friend  the women in the pictures were mostly of indian decent so i often wondered if i was truly his type or if i was more of a shell do for now it has caused this really uncomfortable insecurity that i never have experienced in the past i know maybe he went through a phase where he added a ton of women on facebook for who knows an ego boost  i have followers and males who frequently comment on my instagram pictures but i am not talking to them i just think at 33 that behaviour is weird  when i brought this all up to him he stopped liking pictures he said hes a private person when it comes to that stuff and if we were engaged or something it would be different but i remember seeing a few old work event pictures with him posed up with someone he was obviously more than friends with she was indian he said he always wanted to be someone mixed and pictured himself with someone like me but they just were never into him and goes on to say hes over brown girls or whatever 🙄 he grew up around a lot of black and different race friends  over time our relationship has strengthened we spend a lot of time together good laughs and fun adventures he says he loves me all the time and that he cant wait to marry me and have kids  but there is this but this nagging gut feeling  i dont know what to do it makes me pull away at times i have a lot going for myself and i believe i am a great catch but who really knowsi try to keep myself from thinking the worst but i hate this but  i care about him but i also do not want to get hurt or waste my time   i actually have only been in interracial relationships and ive never really felt this way   i pray about it and i am trying to leave it in gods hands but i am really confused  ps i guess i should also add we kind of met through facebook which doesnt help the situation at all                                                                                                                                                                                                                                                                                                                                                                                                                                                                                                                                                                                                                                                                                                                                                                                                                                                                                                                                                                                                                                                                                                                                                                                                                                                                                                                                                                                                                                                                                                                                                                                               |\n",
      "|boyfriends group chat is like the energizer bunny and keeps going and going and going and goingis it wrong if me 36f to ask my husband 36m to leave a group chat hes a part of  we have five kids and the chat is ongoing for two years now every day all day from the time he wakes up until the time he goes to bed  i asked him to remove himself after seeing and hearing a bunch of weird text and audio messages sent from the guys in the chat explaining details of what they want to do sexually to random strippers and hookers girls they have never met who they see online plus there were explicit pictures there are over 200300 messages in the chat a day and a lot are about sports but then theres the raunchy sexual ones and im just over it all together and feel like no one is benefiting from these ongoing non stop messages but ill take advice from anyone who isnt a jerk about it i dont feel im controlling because i encourage him to hang with his friends and do things all the time i just feel the group chat is toxic and takes his attention away from important real life stuff                                                                                                                                                                                                                                                                                                                                                                                                                                                                                                                                                                                                                                                                                                                                                                                                                                                                                                                                                                                                                                                                                                                                                                                                                                                                                                                                                                                                                                                                                                                                                                                                                                                                                                                                                                                                                                                                                                                                                                                                                                                                                                                                                                                                                                                                                                                                                                                                                                                                                                                                                                                                                                                                                                                                                                                                                                                                                                                                                                                                                                                                                                                                                                                                                                                                                                                                                                                                                                                                                                                                                                                                                                                                                                                                                                           |\n",
      "|i f22 found a video i didnt want to see on my boyfriends m29 old phoneokay please hear my out before saying i fucked up my boyfriend got a new phone this weekend this morning he had a early shift and i had a later shift we are both still on work as im typing this his old phone was on the coffee table and i wanted to send some pictures of our cats to my phone this is nothing weird for us were allowed to go on each others phones so no big deal until i found a video of him in the bathroom i saw a preview picture of the video were he is holding his manly parts or even playing with it i didnt look at the video because he never send it to me so its save to say it wasnt meant for me i never wanted to break his privacy but we look in each others gallery more often so i dont think i did something wrong i just feel so bad that ive seen it were not looking in each others gallery to lurk but just to send some pictures to ourselves sometimes i feel so bad about this        were together for one year now ive never had any insecurities about our relationship i love this guy so much but it makes my head spin in circles did he send this to someone else this video was taken in may btw  should i even say anything that ive seen the video exist   sorry if ive made any spelling or grammar mistakes english is not my first language  x200b  tldr saw a video of my boyfriend holdingplaying with his manly hood on his old phone and i feel really insecure why he made it since he never send it to me so maybe it was meant for someone else                                                                                                                                                                                                                                                                                                                                                                                                                                                                                                                                                                                                                                                                                                                                                                                                                                                                                                                                                                                                                                                                                                                                                                                                                                                                                                                                                                                                                                                                                                                                                                                                                                                                                                                                                                                                                                                                                                                                                                                                                                                                                                                                                                                                                                                                                                                                                                                                                                                                                                                                                                                                                                                                                                                                                                                                                                                                                                                                                                                                                                                                                                                                                                                                                                                                                                     |\n",
      "|i 27 f have been explicitly texting an engaged mani signed up for a dating app about a month ago and clicked with this guy he lives about two hours away from me so we havent had an official date yet like the title says our texts have gotten very explicit including photos and videos we also have facetimed a couple times and yes i did think it was weird that he would only ft when he was at work but i just brushed it off as a kink or something the ft dates werent always just about sex either most of the time it would just be to see each other   anyway i dont go on facebook a ton the only reason i logged on today was because my friend told me she posted her wedding pictures on there after i see the pics i scroll through my feed just to see what people are doing and then all of a sudden i see the guy i have been texting only his name is completely different and hes engaged to be married in two months to someone i knew in high school im friends with the girl on there and someone tagged her and her fiancé in what im assuming were wedding shower pictures i am 10000 sure it is him i havent confronted him yet because i dont know what i should say and also i dont know if i should tell the girl i havent seentalked to her for 10 years so whos to say she would even believe me and i dont want to cause “drama” but i feel really bad right now if i was the one engaged id want to know but i dont know this girl or their relationship  and is it my fault for not asking if he was single i just assumed i dont know what i should do  edit i messaged the girl a screen recording of his dating profile and just said that we have been “explicitly  communicating via video images and texts” she has not responded to me yet                                                                                                                                                                                                                                                                                                                                                                                                                                                                                                                                                                                                                                                                                                                                                                                                                                                                                                                                                                                                                                                                                                                                                                                                                                                                                                                                                                                                                                                                                                                                                                                                                                                                                                                                                                                                                                                                                                                                                                                                                                                                                                                                                                                                                                                                                                                                                                                                                                                                                                                                                                                                                                                                                                                                                                                                                                                                                                                                                                                                                                                                                                           |\n",
      "+-------------------------------------------------------------------------------------------------------------------------------------------------------------------------------------------------------------------------------------------------------------------------------------------------------------------------------------------------------------------------------------------------------------------------------------------------------------------------------------------------------------------------------------------------------------------------------------------------------------------------------------------------------------------------------------------------------------------------------------------------------------------------------------------------------------------------------------------------------------------------------------------------------------------------------------------------------------------------------------------------------------------------------------------------------------------------------------------------------------------------------------------------------------------------------------------------------------------------------------------------------------------------------------------------------------------------------------------------------------------------------------------------------------------------------------------------------------------------------------------------------------------------------------------------------------------------------------------------------------------------------------------------------------------------------------------------------------------------------------------------------------------------------------------------------------------------------------------------------------------------------------------------------------------------------------------------------------------------------------------------------------------------------------------------------------------------------------------------------------------------------------------------------------------------------------------------------------------------------------------------------------------------------------------------------------------------------------------------------------------------------------------------------------------------------------------------------------------------------------------------------------------------------------------------------------------------------------------------------------------------------------------------------------------------------------------------------------------------------------------------------------------------------------------------------------------------------------------------------------------------------------------------------------------------------------------------------------------------------------------------------------------------------------------------------------------------------------------------------------------------------------------------------------------------------------------------------------------------------------------------------------------------------------------------------------------------------------------------------------------------------------------------------------------------------------------------------------------------------------------------------------------------------------------------------------------------------------------------------------------------------------------------------------------------------------------------------------------------------------------------------------------------------------------------------------------------------------------------------------------------------------------------------------------------------------------------------------------------------------------------------------------------------------------------------------------------------------------------------------------------------------------------------------------------------------------------------------------------------------------------------------------------------------------------------------------------------------------------------------------------------------------------------------------------------------------------------------------------------------------------------------------------------------------------------------------------------------------------------------------------------------------------------------------------------------------------------------------------------------------------------------------------------------------------------------------------------------------------------------------------------------------------+"
     ]
    }
   ],
   "source": [
    "df.filter(df.topic_label == \"Social media and messaging\")\\\n",
    "  .sample(0.0001, seed=25)\\\n",
    "  .limit(5)\\\n",
    "  .select(\"entire_text\").show(truncate=False)"
   ]
  },
  {
   "cell_type": "code",
   "execution_count": 18,
   "metadata": {
    "scrolled": false
   },
   "outputs": [
    {
     "data": {
      "application/vnd.jupyter.widget-view+json": {
       "model_id": "",
       "version_major": 2,
       "version_minor": 0
      },
      "text/plain": [
       "FloatProgress(value=0.0, bar_style='info', description='Progress:', layout=Layout(height='25px', width='50%'),…"
      ]
     },
     "metadata": {},
     "output_type": "display_data"
    },
    {
     "name": "stdout",
     "output_type": "stream",
     "text": [
      "+--------------------------------------------------------------------------------------------------------------------------------------------------------------------------------------------------------------------------------------------------------------------------------------------------------------------------------------------------------------------------------------------------------------------------------------------------------------------------------------------------------------------------------------------------------------------------------------------------------------------------------------------------------------------------------------------------------------------------------------------------------------------------------------------------------------------------------------------------------------------------------------------------------------------------------------------------------------------------------------------------------------------------------------------------------------------------------------------------------------------------------------------------------------------------------------------------------------------------------------------------------------------------------------------------------------------------------------------------------------------------------------------------------------------------------------------------------------------------------------------------------------------------------------------------------------------------------------------------------------------------------------------------------------------------------------------------------------------------------------------------------------------------------------------------------------------------------------------------------------------------------------------------------------------------------------------------------------------------------------------------------------------------------------------------------------------------------------------------------------------------------------------------------------------------------------------------------------------------------------------------------------------------------------------------------------------------------------------------------------------------------------------------------------------------------------------------------------------------------------------------------------------------------------------------------------------------------------------------------------------------------------------------------------------------------------------------------------------------------------------------------------------------------------------------------------------------+\n",
      "|entire_text                                                                                                                                                                                                                                                                                                                                                                                                                                                                                                                                                                                                                                                                                                                                                                                                                                                                                                                                                                                                                                                                                                                                                                                                                                                                                                                                                                                                                                                                                                                                                                                                                                                                                                                                                                                                                                                                                                                                                                                                                                                                                                                                                                                                                                                                                                                                                                                                                                                                                                                                                                                                                                                                                                                                                                                                               |\n",
      "+--------------------------------------------------------------------------------------------------------------------------------------------------------------------------------------------------------------------------------------------------------------------------------------------------------------------------------------------------------------------------------------------------------------------------------------------------------------------------------------------------------------------------------------------------------------------------------------------------------------------------------------------------------------------------------------------------------------------------------------------------------------------------------------------------------------------------------------------------------------------------------------------------------------------------------------------------------------------------------------------------------------------------------------------------------------------------------------------------------------------------------------------------------------------------------------------------------------------------------------------------------------------------------------------------------------------------------------------------------------------------------------------------------------------------------------------------------------------------------------------------------------------------------------------------------------------------------------------------------------------------------------------------------------------------------------------------------------------------------------------------------------------------------------------------------------------------------------------------------------------------------------------------------------------------------------------------------------------------------------------------------------------------------------------------------------------------------------------------------------------------------------------------------------------------------------------------------------------------------------------------------------------------------------------------------------------------------------------------------------------------------------------------------------------------------------------------------------------------------------------------------------------------------------------------------------------------------------------------------------------------------------------------------------------------------------------------------------------------------------------------------------------------------------------------------------------------+\n",
      "|bad relationshipone of my fiends married a lady that has 3 teenagers from a previous marriage whom the dad just died last year and a 3 year old who was conceived on a one night stand a week before meeting this girl he has been through a lot with this girl including the whole pregnancy and to find out he was not the father he ended up marrying her anyways and since then everything has gone down hill she quit her job to stay home with the baby last year to help save day care cost but 6 months ago decided he needs to socialize so they sent him to daycare he does all the housework all the cooking cleaning grocery shopping and has a full time job he gets the third degree when he spends even 20 a month on something for himself but every two weeks she gets her nails done hes not happy he fights with her all the time hes become an alcoholic to deal with his home life he wants to get out but is afraid no one else is out there that will want him  ive tried explaining his worth and sending links on how to help his self image  i dont know what else to do help                                                                                                                                                                                                                                                                                                                                                                                                                                                                                                                                                                                                                                                                                                                                                                                                                                                                                                                                                                                                                                                                                                                                                                                                                                                                                                                                                                                                                                                                                                                                                                                                                                                                                                                   |\n",
      "|competitive momhi so ive never made a post before but i really need advice and i dont have many people to talk to im 21 and in a semi long distance relationship rn my so is living at home with their parents for a shorter commute their mother finds any excuse to keep them from coming to see me because she wants to spend time with them she asks questions like whos cooking is better and just sets me up to be at a disadvantage my so is a people pleaser and wants to make everybody happy i feel as though im not asking for much i want to spend two nights with my so that i see maybe every two weeks their mother gets to spend every evening and weekends that they dont come to see me i dont know what to do plz help                                                                                                                                                                                                                                                                                                                                                                                                                                                                                                                                                                                                                                                                                                                                                                                                                                                                                                                                                                                                                                                                                                                                                                                                                                                                                                                                                                                                                                                                                                                                                                                                                                                                                                                                                                                                                                                                                                                                                                                                                                                                                 |\n",
      "|how much rent should i 32f pay my bf 33m as we live in his fixerupperlong story short my bf of 6 years bought a massive fixer upper that we moved into last summer  i did not contribute at all financially to this purchase were living in the house as were renovating it and we both agree it was a massive mistake and the house has made our lives miserable outside of work and my hobby 3hrsday most days i spend all of my waking hours helping him to fix this house up hes undecided whether he wants to sell it when its fixed up or keep living in it  we basically live in a construction zone and we havent has floors just car deckingplywood a functional kitchen good heat etc… for months now i agree that i should be paying rent but i think it should be discounted based on the fact that the house is barely habitable and i spend 1015 hours a week helping to renovate it what is a fair way to determine what i should pay in rent                                                                                                                                                                                                                                                                                                                                                                                                                                                                                                                                                                                                                                                                                                                                                                                                                                                                                                                                                                                                                                                                                                                                                                                                                                                                                                                                                                                                                                                                                                                                                                                                                                                                                                                                                                                                                                                              |\n",
      "|bf isnt treating me greathi everyone on here to ask for some advice on what i should do with my current relationship my bf 24 and me 22 have been dating for almost 2 years now i transferred to a university thats in his city not for him and i go to school everyday and have work every day too expect for one day out of the week and one day out of the weekend my schedule has been really stressful and i ask him all the time to take me out and bring me around his friends since i dont know anyone here and he never does he always says hes sorry and that things come up or that hes just bad at planning what i dont understand is that before i transferred he would tell me i would more of friends when i move here and that he would take me out all the time and do more things together all last week and this week i asked him to take me out on my day off of work today is the day off and well he didnt plan anything he said if i woke up earlier he wouldve taken me out on a bike ride but since i woke up at 11am i was late and now he has other things to do he rehearsed his plans with me before he left and last min goes “you can come to the movies with my friends tonight if want” after i got upset he then started saying that we can do other things together in between his busy schedule right before he left he acted apologetic but i dont believe it hes unemployed not in school and lives in my apartment and hardly contributes i feel like he has time to do nice things for me                                                                                                                                                                                                                                                                                                                                                                                                                                                                                                                                                                                                                                                                                                                                                                                                                                                                                                                                                                                                                                                                                                                                                                                                                                                                                         |\n",
      "|my 24m girlfriend 22f dumped me but is still living with me for the next 4 months what do i doso my girlfriend of 35 years dumped me  last week because she no longer feels like she wants to be tied down in a relationship  to be completely fair and honest the relationship did get a bit stale and it is probably for the better that it is over  the problem is we rent a one bedroom apartment together  we have lived in this apartment together for 8 months now and in january 2019 we decided to renew the lease for another year because at that point things were still going well    ampx200b  the predicament is my ex has nowhere to go right now  she works close to the apartment so do i and goes to school around there too  so we are basically forced to live together and it honestly sucks  she is in the process of finding somewhere else to live starting september 1st but thats still over 4 months away and to be honest i dont know if i can live in the same place with her for the next 4 months and act like friends  like i said the relationship was getting a bit stale but i still loved her and i did not want it to end at least not right now  at the moment we switch off on who sleeps on the couch every night and we each try to spend as little time around the apartment as possible   ampx200b  now im in a pretty shitty situation  i live in the city and my rent is super expensive for a one bedroom with the two of us living there it was doable  my ex doesnt make enough money to cover the rent alone so we decided that i will take over the rent next year which is 1900 a month  1900 a month for me is doable but barely and im really going to have to cut corners to make it work   ampx200b  now i have a few options  i have a cousin who is one of my best friends looking for an apartment at the moment  the problem is i dont think he will be able to wait 4 months for her to move out  ive tried to explain to her that this situation really isnt normal and that she needs to move out sooner but she doesnt seem to think its a big deal and is taking advantage of this situation and me my cousin moving in and also splitting the rent with me for the next year may be my best case scenario and better yet if he moves in now and she moves out i may be able to break my second year of the lease with minimum penalties and find a cheaper two bedroom spot  ampx200b  so what do i do  do i kick her out of a place she currently pays to live  do i wait till the end of this month and then kick her out  do i deal with staying depressed living with her and barely make rent for the next year  any advice from anyone that has been in a situation somewhat similar to this would be so greatly appreciated  thank you in advance|\n",
      "+--------------------------------------------------------------------------------------------------------------------------------------------------------------------------------------------------------------------------------------------------------------------------------------------------------------------------------------------------------------------------------------------------------------------------------------------------------------------------------------------------------------------------------------------------------------------------------------------------------------------------------------------------------------------------------------------------------------------------------------------------------------------------------------------------------------------------------------------------------------------------------------------------------------------------------------------------------------------------------------------------------------------------------------------------------------------------------------------------------------------------------------------------------------------------------------------------------------------------------------------------------------------------------------------------------------------------------------------------------------------------------------------------------------------------------------------------------------------------------------------------------------------------------------------------------------------------------------------------------------------------------------------------------------------------------------------------------------------------------------------------------------------------------------------------------------------------------------------------------------------------------------------------------------------------------------------------------------------------------------------------------------------------------------------------------------------------------------------------------------------------------------------------------------------------------------------------------------------------------------------------------------------------------------------------------------------------------------------------------------------------------------------------------------------------------------------------------------------------------------------------------------------------------------------------------------------------------------------------------------------------------------------------------------------------------------------------------------------------------------------------------------------------------------------------------------------------+"
     ]
    }
   ],
   "source": [
    "df.filter(df.topic_label == \"Finances, employment and housing\")\\\n",
    "  .sample(0.0001, seed=25)\\\n",
    "  .limit(5)\\\n",
    "  .select(\"entire_text\").show(truncate=False)"
   ]
  },
  {
   "cell_type": "markdown",
   "metadata": {},
   "source": [
    "Overall, the topics seem to be logic and coherent. Particularly, the topic on social media and messaging is especially important for my original research questions. Skimming through the examples, it seems as the model was able to capture the 5 labeled topics."
   ]
  },
  {
   "cell_type": "markdown",
   "metadata": {},
   "source": [
    "## Save df as parquet files in S3, containing only useful information for further analysis"
   ]
  },
  {
   "cell_type": "code",
   "execution_count": 19,
   "metadata": {},
   "outputs": [
    {
     "data": {
      "application/vnd.jupyter.widget-view+json": {
       "model_id": "",
       "version_major": 2,
       "version_minor": 0
      },
      "text/plain": [
       "FloatProgress(value=0.0, bar_style='info', description='Progress:', layout=Layout(height='25px', width='50%'),…"
      ]
     },
     "metadata": {},
     "output_type": "display_data"
    },
    {
     "name": "stdout",
     "output_type": "stream",
     "text": [
      "root\n",
      " |-- id: string (nullable = true)\n",
      " |-- created: string (nullable = true)\n",
      " |-- author: string (nullable = true)\n",
      " |-- score: string (nullable = true)\n",
      " |-- title: string (nullable = true)\n",
      " |-- selftext: string (nullable = true)\n",
      " |-- num_comments: string (nullable = true)\n",
      " |-- entire_text: string (nullable = true)\n",
      " |-- year: integer (nullable = true)\n",
      " |-- person_1: string (nullable = true)\n",
      " |-- person_2: string (nullable = true)\n",
      " |-- finished_tokens: array (nullable = true)\n",
      " |    |-- element: string (containsNull = true)\n",
      " |-- terms_frequencies: vector (nullable = true)\n",
      " |-- tf_idf_features: vector (nullable = true)\n",
      " |-- topicDistribution: vector (nullable = true)\n",
      " |-- topic_label: string (nullable = true)"
     ]
    }
   ],
   "source": [
    "df.printSchema()"
   ]
  },
  {
   "cell_type": "markdown",
   "metadata": {},
   "source": [
    "I'll exclude the following columns:\n",
    "\n",
    "* Authors are not necessary, they do not tell much\n",
    "\n",
    "* title and selftext are not necessary since entire_text combines them \n",
    "\n",
    "* person_1 and person_2 were initial attempts to obtain the age of the involved people in the submissions, but after exploring the texts more throughougly, some submissions include 3+ people, or do not follow the same format for indicating age, so for simplicity I'll exclude those columns. (I hadn't even finished that code so I just deleted it from the data wrangling notebook)\n",
    "\n",
    "* The created column is also not necessary because the year is already extracted\n",
    "\n",
    "* All of the columns created for the topic model are also not necessary anymore since I can stick with the label\n"
   ]
  },
  {
   "cell_type": "code",
   "execution_count": 20,
   "metadata": {},
   "outputs": [
    {
     "data": {
      "application/vnd.jupyter.widget-view+json": {
       "model_id": "",
       "version_major": 2,
       "version_minor": 0
      },
      "text/plain": [
       "FloatProgress(value=0.0, bar_style='info', description='Progress:', layout=Layout(height='25px', width='50%'),…"
      ]
     },
     "metadata": {},
     "output_type": "display_data"
    }
   ],
   "source": [
    "reduced_df = df.select(\"id\", \"score\", \"num_comments\", \"entire_text\", \"year\", \"topic_label\")"
   ]
  },
  {
   "cell_type": "code",
   "execution_count": 21,
   "metadata": {},
   "outputs": [
    {
     "data": {
      "application/vnd.jupyter.widget-view+json": {
       "model_id": "",
       "version_major": 2,
       "version_minor": 0
      },
      "text/plain": [
       "FloatProgress(value=0.0, bar_style='info', description='Progress:', layout=Layout(height='25px', width='50%'),…"
      ]
     },
     "metadata": {},
     "output_type": "display_data"
    },
    {
     "name": "stdout",
     "output_type": "stream",
     "text": [
      "root\n",
      " |-- id: string (nullable = true)\n",
      " |-- score: string (nullable = true)\n",
      " |-- num_comments: string (nullable = true)\n",
      " |-- entire_text: string (nullable = true)\n",
      " |-- year: integer (nullable = true)\n",
      " |-- topic_label: string (nullable = true)"
     ]
    }
   ],
   "source": [
    "reduced_df.printSchema()"
   ]
  },
  {
   "cell_type": "code",
   "execution_count": 23,
   "metadata": {},
   "outputs": [
    {
     "data": {
      "application/vnd.jupyter.widget-view+json": {
       "model_id": "",
       "version_major": 2,
       "version_minor": 0
      },
      "text/plain": [
       "FloatProgress(value=0.0, bar_style='info', description='Progress:', layout=Layout(height='25px', width='50%'),…"
      ]
     },
     "metadata": {},
     "output_type": "display_data"
    }
   ],
   "source": [
    "df_repartitioned = reduced_df.repartition(10)\n",
    "df_repartitioned.write.parquet(\"s3://finalproject-nat-s3/data_withtopic_labels\", mode = 'overwrite')"
   ]
  }
 ],
 "metadata": {
  "kernelspec": {
   "display_name": "PySpark",
   "language": "",
   "name": "pysparkkernel"
  },
  "language_info": {
   "codemirror_mode": {
    "name": "python",
    "version": 3
   },
   "mimetype": "text/x-python",
   "name": "pyspark",
   "pygments_lexer": "python3"
  }
 },
 "nbformat": 4,
 "nbformat_minor": 4
}
